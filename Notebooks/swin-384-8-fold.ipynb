{
 "cells": [
  {
   "cell_type": "code",
   "execution_count": 1,
   "id": "563e5eda",
   "metadata": {
    "execution": {
     "iopub.execute_input": "2022-01-08T15:16:59.336786Z",
     "iopub.status.busy": "2022-01-08T15:16:59.334165Z",
     "iopub.status.idle": "2022-01-08T15:17:08.043650Z",
     "shell.execute_reply": "2022-01-08T15:17:08.043065Z",
     "shell.execute_reply.started": "2022-01-07T17:14:40.85112Z"
    },
    "papermill": {
     "duration": 8.737904,
     "end_time": "2022-01-08T15:17:08.043805",
     "exception": false,
     "start_time": "2022-01-08T15:16:59.305901",
     "status": "completed"
    },
    "tags": []
   },
   "outputs": [
    {
     "data": {
      "text/html": [
       "<div>\n",
       "<style scoped>\n",
       "    .dataframe tbody tr th:only-of-type {\n",
       "        vertical-align: middle;\n",
       "    }\n",
       "\n",
       "    .dataframe tbody tr th {\n",
       "        vertical-align: top;\n",
       "    }\n",
       "\n",
       "    .dataframe thead th {\n",
       "        text-align: right;\n",
       "    }\n",
       "</style>\n",
       "<table border=\"1\" class=\"dataframe\">\n",
       "  <thead>\n",
       "    <tr style=\"text-align: right;\">\n",
       "      <th></th>\n",
       "      <th>Id</th>\n",
       "      <th>Subject Focus</th>\n",
       "      <th>Eyes</th>\n",
       "      <th>Face</th>\n",
       "      <th>Near</th>\n",
       "      <th>Action</th>\n",
       "      <th>Accessory</th>\n",
       "      <th>Group</th>\n",
       "      <th>Collage</th>\n",
       "      <th>Human</th>\n",
       "      <th>Occlusion</th>\n",
       "      <th>Info</th>\n",
       "      <th>Blur</th>\n",
       "      <th>Pawpularity</th>\n",
       "    </tr>\n",
       "  </thead>\n",
       "  <tbody>\n",
       "    <tr>\n",
       "      <th>0</th>\n",
       "      <td>0007de18844b0dbbb5e1f607da0606e0</td>\n",
       "      <td>0</td>\n",
       "      <td>1</td>\n",
       "      <td>1</td>\n",
       "      <td>1</td>\n",
       "      <td>0</td>\n",
       "      <td>0</td>\n",
       "      <td>1</td>\n",
       "      <td>0</td>\n",
       "      <td>0</td>\n",
       "      <td>0</td>\n",
       "      <td>0</td>\n",
       "      <td>0</td>\n",
       "      <td>63</td>\n",
       "    </tr>\n",
       "    <tr>\n",
       "      <th>1</th>\n",
       "      <td>0009c66b9439883ba2750fb825e1d7db</td>\n",
       "      <td>0</td>\n",
       "      <td>1</td>\n",
       "      <td>1</td>\n",
       "      <td>0</td>\n",
       "      <td>0</td>\n",
       "      <td>0</td>\n",
       "      <td>0</td>\n",
       "      <td>0</td>\n",
       "      <td>0</td>\n",
       "      <td>0</td>\n",
       "      <td>0</td>\n",
       "      <td>0</td>\n",
       "      <td>42</td>\n",
       "    </tr>\n",
       "    <tr>\n",
       "      <th>2</th>\n",
       "      <td>0013fd999caf9a3efe1352ca1b0d937e</td>\n",
       "      <td>0</td>\n",
       "      <td>1</td>\n",
       "      <td>1</td>\n",
       "      <td>1</td>\n",
       "      <td>0</td>\n",
       "      <td>0</td>\n",
       "      <td>0</td>\n",
       "      <td>0</td>\n",
       "      <td>1</td>\n",
       "      <td>1</td>\n",
       "      <td>0</td>\n",
       "      <td>0</td>\n",
       "      <td>28</td>\n",
       "    </tr>\n",
       "    <tr>\n",
       "      <th>3</th>\n",
       "      <td>0018df346ac9c1d8413cfcc888ca8246</td>\n",
       "      <td>0</td>\n",
       "      <td>1</td>\n",
       "      <td>1</td>\n",
       "      <td>1</td>\n",
       "      <td>0</td>\n",
       "      <td>0</td>\n",
       "      <td>0</td>\n",
       "      <td>0</td>\n",
       "      <td>0</td>\n",
       "      <td>0</td>\n",
       "      <td>0</td>\n",
       "      <td>0</td>\n",
       "      <td>15</td>\n",
       "    </tr>\n",
       "    <tr>\n",
       "      <th>4</th>\n",
       "      <td>001dc955e10590d3ca4673f034feeef2</td>\n",
       "      <td>0</td>\n",
       "      <td>0</td>\n",
       "      <td>0</td>\n",
       "      <td>1</td>\n",
       "      <td>0</td>\n",
       "      <td>0</td>\n",
       "      <td>1</td>\n",
       "      <td>0</td>\n",
       "      <td>0</td>\n",
       "      <td>0</td>\n",
       "      <td>0</td>\n",
       "      <td>0</td>\n",
       "      <td>72</td>\n",
       "    </tr>\n",
       "  </tbody>\n",
       "</table>\n",
       "</div>"
      ],
      "text/plain": [
       "                                 Id  Subject Focus  Eyes  Face  Near  Action  \\\n",
       "0  0007de18844b0dbbb5e1f607da0606e0              0     1     1     1       0   \n",
       "1  0009c66b9439883ba2750fb825e1d7db              0     1     1     0       0   \n",
       "2  0013fd999caf9a3efe1352ca1b0d937e              0     1     1     1       0   \n",
       "3  0018df346ac9c1d8413cfcc888ca8246              0     1     1     1       0   \n",
       "4  001dc955e10590d3ca4673f034feeef2              0     0     0     1       0   \n",
       "\n",
       "   Accessory  Group  Collage  Human  Occlusion  Info  Blur  Pawpularity  \n",
       "0          0      1        0      0          0     0     0           63  \n",
       "1          0      0        0      0          0     0     0           42  \n",
       "2          0      0        0      1          1     0     0           28  \n",
       "3          0      0        0      0          0     0     0           15  \n",
       "4          0      1        0      0          0     0     0           72  "
      ]
     },
     "execution_count": 1,
     "metadata": {},
     "output_type": "execute_result"
    }
   ],
   "source": [
    "import sys\n",
    "sys.path.append('../input/timm-pytorch-image-models/pytorch-image-models-master')\n",
    "from timm import create_model\n",
    "from fastai.vision.all import *\n",
    "set_seed(999, reproducible=True)\n",
    "BATCH_SIZE = 6                  \n",
    "dataset_path = Path('../input/petfinder-pawpularity-score/')\n",
    "dataset_path.ls()\n",
    "train_df = pd.read_csv(dataset_path/'train.csv')\n",
    "train_df.head()"
   ]
  },
  {
   "cell_type": "code",
   "execution_count": 2,
   "id": "b27d68e9",
   "metadata": {
    "execution": {
     "iopub.execute_input": "2022-01-08T15:17:08.084710Z",
     "iopub.status.busy": "2022-01-08T15:17:08.084107Z",
     "iopub.status.idle": "2022-01-08T15:17:08.088109Z",
     "shell.execute_reply": "2022-01-08T15:17:08.087632Z",
     "shell.execute_reply.started": "2022-01-07T17:14:49.090462Z"
    },
    "papermill": {
     "duration": 0.026137,
     "end_time": "2022-01-08T15:17:08.088238",
     "exception": false,
     "start_time": "2022-01-08T15:17:08.062101",
     "status": "completed"
    },
    "tags": []
   },
   "outputs": [],
   "source": [
    "pth='../input/timmswin/swin_large_patch4_window12_384_22kto1k.pth'"
   ]
  },
  {
   "cell_type": "code",
   "execution_count": 3,
   "id": "dab6cf13",
   "metadata": {
    "execution": {
     "iopub.execute_input": "2022-01-08T15:17:08.128331Z",
     "iopub.status.busy": "2022-01-08T15:17:08.127388Z",
     "iopub.status.idle": "2022-01-08T15:17:08.133608Z",
     "shell.execute_reply": "2022-01-08T15:17:08.133116Z",
     "shell.execute_reply.started": "2022-01-07T17:14:49.096176Z"
    },
    "papermill": {
     "duration": 0.027615,
     "end_time": "2022-01-08T15:17:08.133737",
     "exception": false,
     "start_time": "2022-01-08T15:17:08.106122",
     "status": "completed"
    },
    "tags": []
   },
   "outputs": [
    {
     "data": {
      "text/plain": [
       "['__notebook__.ipynb']"
      ]
     },
     "execution_count": 3,
     "metadata": {},
     "output_type": "execute_result"
    }
   ],
   "source": [
    "os.listdir()"
   ]
  },
  {
   "cell_type": "code",
   "execution_count": 4,
   "id": "5501fa85",
   "metadata": {
    "execution": {
     "iopub.execute_input": "2022-01-08T15:17:08.178013Z",
     "iopub.status.busy": "2022-01-08T15:17:08.177164Z",
     "iopub.status.idle": "2022-01-08T15:17:08.326687Z",
     "shell.execute_reply": "2022-01-08T15:17:08.327147Z",
     "shell.execute_reply.started": "2022-01-07T17:14:49.108889Z"
    },
    "papermill": {
     "duration": 0.176115,
     "end_time": "2022-01-08T15:17:08.327303",
     "exception": false,
     "start_time": "2022-01-08T15:17:08.151188",
     "status": "completed"
    },
    "tags": []
   },
   "outputs": [
    {
     "data": {
      "text/html": [
       "<div>\n",
       "<style scoped>\n",
       "    .dataframe tbody tr th:only-of-type {\n",
       "        vertical-align: middle;\n",
       "    }\n",
       "\n",
       "    .dataframe tbody tr th {\n",
       "        vertical-align: top;\n",
       "    }\n",
       "\n",
       "    .dataframe thead th {\n",
       "        text-align: right;\n",
       "    }\n",
       "</style>\n",
       "<table border=\"1\" class=\"dataframe\">\n",
       "  <thead>\n",
       "    <tr style=\"text-align: right;\">\n",
       "      <th></th>\n",
       "      <th>Subject Focus</th>\n",
       "      <th>Eyes</th>\n",
       "      <th>Face</th>\n",
       "      <th>Near</th>\n",
       "      <th>Action</th>\n",
       "      <th>Accessory</th>\n",
       "      <th>Group</th>\n",
       "      <th>Collage</th>\n",
       "      <th>Human</th>\n",
       "      <th>Occlusion</th>\n",
       "      <th>Info</th>\n",
       "      <th>Blur</th>\n",
       "      <th>Pawpularity</th>\n",
       "      <th>path</th>\n",
       "    </tr>\n",
       "  </thead>\n",
       "  <tbody>\n",
       "    <tr>\n",
       "      <th>0</th>\n",
       "      <td>0</td>\n",
       "      <td>0</td>\n",
       "      <td>1</td>\n",
       "      <td>1</td>\n",
       "      <td>0</td>\n",
       "      <td>0</td>\n",
       "      <td>0</td>\n",
       "      <td>0</td>\n",
       "      <td>0</td>\n",
       "      <td>0</td>\n",
       "      <td>0</td>\n",
       "      <td>1</td>\n",
       "      <td>50</td>\n",
       "      <td>../input/petfinder-pawpularity-score/train/ebaaa8e384b3d2f0a56c7ff7675c154c.jpg</td>\n",
       "    </tr>\n",
       "    <tr>\n",
       "      <th>1</th>\n",
       "      <td>0</td>\n",
       "      <td>1</td>\n",
       "      <td>1</td>\n",
       "      <td>1</td>\n",
       "      <td>0</td>\n",
       "      <td>1</td>\n",
       "      <td>0</td>\n",
       "      <td>1</td>\n",
       "      <td>0</td>\n",
       "      <td>0</td>\n",
       "      <td>1</td>\n",
       "      <td>0</td>\n",
       "      <td>25</td>\n",
       "      <td>../input/petfinder-pawpularity-score/train/25e3bf4267c2dc3f579b779418221bb7.jpg</td>\n",
       "    </tr>\n",
       "    <tr>\n",
       "      <th>2</th>\n",
       "      <td>0</td>\n",
       "      <td>0</td>\n",
       "      <td>1</td>\n",
       "      <td>1</td>\n",
       "      <td>0</td>\n",
       "      <td>1</td>\n",
       "      <td>0</td>\n",
       "      <td>0</td>\n",
       "      <td>0</td>\n",
       "      <td>0</td>\n",
       "      <td>0</td>\n",
       "      <td>0</td>\n",
       "      <td>27</td>\n",
       "      <td>../input/petfinder-pawpularity-score/train/6548166fb3fda22b67881176397f0223.jpg</td>\n",
       "    </tr>\n",
       "    <tr>\n",
       "      <th>3</th>\n",
       "      <td>0</td>\n",
       "      <td>1</td>\n",
       "      <td>1</td>\n",
       "      <td>1</td>\n",
       "      <td>0</td>\n",
       "      <td>0</td>\n",
       "      <td>0</td>\n",
       "      <td>0</td>\n",
       "      <td>1</td>\n",
       "      <td>1</td>\n",
       "      <td>0</td>\n",
       "      <td>0</td>\n",
       "      <td>19</td>\n",
       "      <td>../input/petfinder-pawpularity-score/train/472c40116e1833555715e4774445ae5b.jpg</td>\n",
       "    </tr>\n",
       "    <tr>\n",
       "      <th>4</th>\n",
       "      <td>0</td>\n",
       "      <td>1</td>\n",
       "      <td>1</td>\n",
       "      <td>1</td>\n",
       "      <td>0</td>\n",
       "      <td>0</td>\n",
       "      <td>0</td>\n",
       "      <td>1</td>\n",
       "      <td>0</td>\n",
       "      <td>0</td>\n",
       "      <td>0</td>\n",
       "      <td>0</td>\n",
       "      <td>27</td>\n",
       "      <td>../input/petfinder-pawpularity-score/train/7b77e1a6d93667b575d57db83facd860.jpg</td>\n",
       "    </tr>\n",
       "  </tbody>\n",
       "</table>\n",
       "</div>"
      ],
      "text/plain": [
       "   Subject Focus  Eyes  Face  Near  Action  Accessory  Group  Collage  Human  \\\n",
       "0              0     0     1     1       0          0      0        0      0   \n",
       "1              0     1     1     1       0          1      0        1      0   \n",
       "2              0     0     1     1       0          1      0        0      0   \n",
       "3              0     1     1     1       0          0      0        0      1   \n",
       "4              0     1     1     1       0          0      0        1      0   \n",
       "\n",
       "   Occlusion  Info  Blur  Pawpularity  \\\n",
       "0          0     0     1           50   \n",
       "1          0     1     0           25   \n",
       "2          0     0     0           27   \n",
       "3          1     0     0           19   \n",
       "4          0     0     0           27   \n",
       "\n",
       "                                                                              path  \n",
       "0  ../input/petfinder-pawpularity-score/train/ebaaa8e384b3d2f0a56c7ff7675c154c.jpg  \n",
       "1  ../input/petfinder-pawpularity-score/train/25e3bf4267c2dc3f579b779418221bb7.jpg  \n",
       "2  ../input/petfinder-pawpularity-score/train/6548166fb3fda22b67881176397f0223.jpg  \n",
       "3  ../input/petfinder-pawpularity-score/train/472c40116e1833555715e4774445ae5b.jpg  \n",
       "4  ../input/petfinder-pawpularity-score/train/7b77e1a6d93667b575d57db83facd860.jpg  "
      ]
     },
     "execution_count": 4,
     "metadata": {},
     "output_type": "execute_result"
    }
   ],
   "source": [
    "train_df['path'] = train_df['Id'].map(lambda x:str(dataset_path/'train'/x)+'.jpg')\n",
    "train_df = train_df.drop(columns=['Id'])\n",
    "train_df = train_df.sample(frac=1).reset_index(drop=True)\n",
    "train_df.head()"
   ]
  },
  {
   "cell_type": "code",
   "execution_count": 5,
   "id": "0c0d7592",
   "metadata": {
    "execution": {
     "iopub.execute_input": "2022-01-08T15:17:08.371252Z",
     "iopub.status.busy": "2022-01-08T15:17:08.370600Z",
     "iopub.status.idle": "2022-01-08T15:17:08.644909Z",
     "shell.execute_reply": "2022-01-08T15:17:08.645367Z",
     "shell.execute_reply.started": "2022-01-07T17:14:49.253236Z"
    },
    "papermill": {
     "duration": 0.299816,
     "end_time": "2022-01-08T15:17:08.645525",
     "exception": false,
     "start_time": "2022-01-08T15:17:08.345709",
     "status": "completed"
    },
    "tags": []
   },
   "outputs": [
    {
     "name": "stdout",
     "output_type": "stream",
     "text": [
      "The mean Pawpularity score is 38.03904358353511\n",
      "The median Pawpularity score is 33.0\n",
      "960 960\n"
     ]
    },
    {
     "data": {
      "image/png": "[encoded data removed]",
      "text/plain": [
       "<Figure size 720x360 with 1 Axes>"
      ]
     },
     "metadata": {
      "needs_background": "light"
     },
     "output_type": "display_data"
    }
   ],
   "source": [
    "len_df = len(train_df)\n",
    "train_df['Pawpularity'].hist(figsize = (10, 5))\n",
    "print(f\"The mean Pawpularity score is {train_df['Pawpularity'].mean()}\")\n",
    "print(f\"The median Pawpularity score is {train_df['Pawpularity'].median()}\")\n",
    "\n",
    "train_df['norm_score'] = train_df['Pawpularity']/100\n",
    "train_df['norm_score']\n",
    "im = Image.open(train_df['path'][1])\n",
    "width, height = im.size\n",
    "print(width,height)"
   ]
  },
  {
   "cell_type": "code",
   "execution_count": 6,
   "id": "2b414895",
   "metadata": {
    "execution": {
     "iopub.execute_input": "2022-01-08T15:17:08.689414Z",
     "iopub.status.busy": "2022-01-08T15:17:08.688623Z",
     "iopub.status.idle": "2022-01-08T15:17:17.270657Z",
     "shell.execute_reply": "2022-01-08T15:17:17.269793Z",
     "shell.execute_reply.started": "2022-01-07T17:14:49.498695Z"
    },
    "papermill": {
     "duration": 8.60622,
     "end_time": "2022-01-08T15:17:17.270791",
     "exception": false,
     "start_time": "2022-01-08T15:17:08.664571",
     "status": "completed"
    },
    "tags": []
   },
   "outputs": [],
   "source": [
    "if not os.path.exists('/root/.cache/torch/hub/checkpoints/'):\n",
    "    os.makedirs('/root/.cache/torch/hub/checkpoints/')\n",
    "!cp '../input/timmswin/swin_large_patch4_window12_384_22kto1k.pth' '/root/.cache/torch/hub/checkpoints/swin_large_patch4_window12_384_22kto1k.pth'"
   ]
  },
  {
   "cell_type": "code",
   "execution_count": 7,
   "id": "757245f2",
   "metadata": {
    "execution": {
     "iopub.execute_input": "2022-01-08T15:17:17.315262Z",
     "iopub.status.busy": "2022-01-08T15:17:17.314462Z",
     "iopub.status.idle": "2022-01-08T15:17:17.317363Z",
     "shell.execute_reply": "2022-01-08T15:17:17.316873Z",
     "shell.execute_reply.started": "2022-01-07T17:14:55.498222Z"
    },
    "papermill": {
     "duration": 0.027156,
     "end_time": "2022-01-08T15:17:17.317480",
     "exception": false,
     "start_time": "2022-01-08T15:17:17.290324",
     "status": "completed"
    },
    "tags": []
   },
   "outputs": [],
   "source": [
    "seed=999\n",
    "set_seed(seed, reproducible=True)\n",
    "torch.manual_seed(seed)\n",
    "torch.cuda.manual_seed(seed)\n",
    "torch.backends.cudnn.deterministic = True\n",
    "torch.use_deterministic_algorithms = True"
   ]
  },
  {
   "cell_type": "code",
   "execution_count": 8,
   "id": "ca18f788",
   "metadata": {
    "execution": {
     "iopub.execute_input": "2022-01-08T15:17:17.361432Z",
     "iopub.status.busy": "2022-01-08T15:17:17.360839Z",
     "iopub.status.idle": "2022-01-08T15:17:17.586775Z",
     "shell.execute_reply": "2022-01-08T15:17:17.586339Z",
     "shell.execute_reply.started": "2022-01-07T17:14:55.504995Z"
    },
    "papermill": {
     "duration": 0.250488,
     "end_time": "2022-01-08T15:17:17.586897",
     "exception": false,
     "start_time": "2022-01-08T15:17:17.336409",
     "status": "completed"
    },
    "tags": []
   },
   "outputs": [
    {
     "data": {
      "text/plain": [
       "<AxesSubplot:>"
      ]
     },
     "execution_count": 8,
     "metadata": {},
     "output_type": "execute_result"
    },
    {
     "data": {
      "image/png": "[encoded data removed]",
      "text/plain": [
       "<Figure size 432x288 with 1 Axes>"
      ]
     },
     "metadata": {
      "needs_background": "light"
     },
     "output_type": "display_data"
    }
   ],
   "source": [
    "num_bins = int(np.floor(1+(3.3)*(np.log2(len(train_df)))))\n",
    "train_df['bins'] = pd.cut(train_df['norm_score'], bins=num_bins, labels=False)\n",
    "train_df['bins'].hist()"
   ]
  },
  {
   "cell_type": "code",
   "execution_count": 9,
   "id": "0f29cc33",
   "metadata": {
    "execution": {
     "iopub.execute_input": "2022-01-08T15:17:17.635715Z",
     "iopub.status.busy": "2022-01-08T15:17:17.635148Z",
     "iopub.status.idle": "2022-01-08T15:17:17.850730Z",
     "shell.execute_reply": "2022-01-08T15:17:17.851152Z",
     "shell.execute_reply.started": "2022-01-07T17:14:55.719539Z"
    },
    "papermill": {
     "duration": 0.244581,
     "end_time": "2022-01-08T15:17:17.851309",
     "exception": false,
     "start_time": "2022-01-08T15:17:17.606728",
     "status": "completed"
    },
    "tags": []
   },
   "outputs": [
    {
     "data": {
      "text/plain": [
       "<AxesSubplot:>"
      ]
     },
     "execution_count": 9,
     "metadata": {},
     "output_type": "execute_result"
    },
    {
     "data": {
      "image/png": "[encoded data removed]",
      "text/plain": [
       "<Figure size 432x288 with 1 Axes>"
      ]
     },
     "metadata": {
      "needs_background": "light"
     },
     "output_type": "display_data"
    }
   ],
   "source": [
    "from sklearn.model_selection import KFold\n",
    "from sklearn.model_selection import StratifiedKFold\n",
    "\n",
    "train_df['fold'] = -1\n",
    "\n",
    "N_FOLDS = 5\n",
    "strat_kfold = StratifiedKFold(n_splits=N_FOLDS, random_state=seed, shuffle=True)\n",
    "for i, (_, train_index) in enumerate(strat_kfold.split(train_df.index, train_df['bins'])):\n",
    "    train_df.iloc[train_index, -1] = i\n",
    "    \n",
    "train_df['fold'] = train_df['fold'].astype('int')\n",
    "train_df.fold.value_counts().plot.bar()"
   ]
  },
  {
   "cell_type": "code",
   "execution_count": 10,
   "id": "b68715d4",
   "metadata": {
    "execution": {
     "iopub.execute_input": "2022-01-08T15:17:17.896701Z",
     "iopub.status.busy": "2022-01-08T15:17:17.895896Z",
     "iopub.status.idle": "2022-01-08T15:17:17.945391Z",
     "shell.execute_reply": "2022-01-08T15:17:17.944767Z"
    },
    "papermill": {
     "duration": 0.073161,
     "end_time": "2022-01-08T15:17:17.945520",
     "exception": false,
     "start_time": "2022-01-08T15:17:17.872359",
     "status": "completed"
    },
    "tags": []
   },
   "outputs": [],
   "source": [
    "train_df=pd.read_csv('../input/vision-transformer/Final_train_df.csv')"
   ]
  },
  {
   "cell_type": "code",
   "execution_count": 11,
   "id": "62b1bd2e",
   "metadata": {
    "execution": {
     "iopub.execute_input": "2022-01-08T15:17:17.992039Z",
     "iopub.status.busy": "2022-01-08T15:17:17.991187Z",
     "iopub.status.idle": "2022-01-08T15:17:17.993141Z",
     "shell.execute_reply": "2022-01-08T15:17:17.993687Z",
     "shell.execute_reply.started": "2022-01-07T17:14:55.928078Z"
    },
    "papermill": {
     "duration": 0.02773,
     "end_time": "2022-01-08T15:17:17.993838",
     "exception": false,
     "start_time": "2022-01-08T15:17:17.966108",
     "status": "completed"
    },
    "tags": []
   },
   "outputs": [],
   "source": [
    "def petfinder_rmse(input,target):\n",
    "    return 100*torch.sqrt(F.mse_loss(F.sigmoid(input.flatten()), target))"
   ]
  },
  {
   "cell_type": "code",
   "execution_count": null,
   "id": "332f0922",
   "metadata": {
    "papermill": {
     "duration": 0.021972,
     "end_time": "2022-01-08T15:17:18.036858",
     "exception": false,
     "start_time": "2022-01-08T15:17:18.014886",
     "status": "completed"
    },
    "tags": []
   },
   "outputs": [],
   "source": []
  },
  {
   "cell_type": "code",
   "execution_count": 12,
   "id": "f92ace6d",
   "metadata": {
    "execution": {
     "iopub.execute_input": "2022-01-08T15:17:18.085278Z",
     "iopub.status.busy": "2022-01-08T15:17:18.084275Z",
     "iopub.status.idle": "2022-01-08T15:17:18.086047Z",
     "shell.execute_reply": "2022-01-08T15:17:18.086545Z",
     "shell.execute_reply.started": "2022-01-07T17:14:55.934512Z"
    },
    "papermill": {
     "duration": 0.029107,
     "end_time": "2022-01-08T15:17:18.086705",
     "exception": false,
     "start_time": "2022-01-08T15:17:18.057598",
     "status": "completed"
    },
    "tags": []
   },
   "outputs": [],
   "source": [
    "def get_data(fold):\n",
    "    train_df_f = train_df.copy()\n",
    "    train_df_f['is_valid'] = (train_df_f['fold'] == fold)\n",
    "    dls = ImageDataLoaders.from_df(train_df_f,\n",
    "                               valid_col='is_valid',\n",
    "                               seed=999,\n",
    "                               fn_col='path',\n",
    "                               label_col='norm_score',\n",
    "                               y_block=RegressionBlock,\n",
    "                               bs=BATCH_SIZE, \n",
    "                               num_workers=8, \n",
    "                               item_tfms=Resize(384\n",
    "                                               ), \n",
    "                               batch_tfms=setup_aug_tfms([Brightness(), Contrast(), Hue(), Saturation()])) \n",
    "    \n",
    "    return dls"
   ]
  },
  {
   "cell_type": "code",
   "execution_count": 13,
   "id": "cd383524",
   "metadata": {
    "execution": {
     "iopub.execute_input": "2022-01-08T15:17:18.131538Z",
     "iopub.status.busy": "2022-01-08T15:17:18.130745Z",
     "iopub.status.idle": "2022-01-08T15:17:24.050546Z",
     "shell.execute_reply": "2022-01-08T15:17:24.049927Z",
     "shell.execute_reply.started": "2022-01-07T17:14:55.944868Z"
    },
    "papermill": {
     "duration": 5.943349,
     "end_time": "2022-01-08T15:17:24.050684",
     "exception": false,
     "start_time": "2022-01-08T15:17:18.107335",
     "status": "completed"
    },
    "tags": []
   },
   "outputs": [],
   "source": [
    "the_data = get_data(0)\n",
    "assert (len(the_data.train) + len(the_data.valid)) == (len(train_df)//BATCH_SIZE)"
   ]
  },
  {
   "cell_type": "code",
   "execution_count": 14,
   "id": "c74e0b64",
   "metadata": {
    "execution": {
     "iopub.execute_input": "2022-01-08T15:17:24.134463Z",
     "iopub.status.busy": "2022-01-08T15:17:24.133676Z",
     "iopub.status.idle": "2022-01-08T15:17:24.149915Z",
     "shell.execute_reply": "2022-01-08T15:17:24.149416Z",
     "shell.execute_reply.started": "2022-01-07T17:15:00.537801Z"
    },
    "papermill": {
     "duration": 0.072282,
     "end_time": "2022-01-08T15:17:24.150084",
     "exception": false,
     "start_time": "2022-01-08T15:17:24.077802",
     "status": "completed"
    },
    "tags": []
   },
   "outputs": [],
   "source": [
    "from fastai.vision.all import *\n",
    "mixup = MixUp(1.)"
   ]
  },
  {
   "cell_type": "code",
   "execution_count": null,
   "id": "410328d4",
   "metadata": {
    "papermill": {
     "duration": 0.022207,
     "end_time": "2022-01-08T15:17:24.195391",
     "exception": false,
     "start_time": "2022-01-08T15:17:24.173184",
     "status": "completed"
    },
    "tags": []
   },
   "outputs": [],
   "source": []
  },
  {
   "cell_type": "code",
   "execution_count": 15,
   "id": "cc6554f2",
   "metadata": {
    "execution": {
     "iopub.execute_input": "2022-01-08T15:17:24.249641Z",
     "iopub.status.busy": "2022-01-08T15:17:24.248672Z",
     "iopub.status.idle": "2022-01-08T15:17:24.250672Z",
     "shell.execute_reply": "2022-01-08T15:17:24.251167Z",
     "shell.execute_reply.started": "2022-01-07T17:15:00.561229Z"
    },
    "papermill": {
     "duration": 0.031829,
     "end_time": "2022-01-08T15:17:24.251329",
     "exception": false,
     "start_time": "2022-01-08T15:17:24.219500",
     "status": "completed"
    },
    "tags": []
   },
   "outputs": [],
   "source": [
    "def get_learner(fold_num):\n",
    "    data = get_data(fold_num)\n",
    "    model = create_model('swin_large_patch4_window12_384', pretrained=True, num_classes=data.c)\n",
    "    learn = Learner(data, model, loss_func=BCEWithLogitsLossFlat(),cbs=mixup,metrics=petfinder_rmse).to_fp16()\n",
    "    return learn"
   ]
  },
  {
   "cell_type": "code",
   "execution_count": 16,
   "id": "84f0686d",
   "metadata": {
    "execution": {
     "iopub.execute_input": "2022-01-08T15:17:24.305999Z",
     "iopub.status.busy": "2022-01-08T15:17:24.305355Z",
     "iopub.status.idle": "2022-01-08T15:17:24.324391Z",
     "shell.execute_reply": "2022-01-08T15:17:24.323849Z",
     "shell.execute_reply.started": "2022-01-07T17:15:00.590479Z"
    },
    "papermill": {
     "duration": 0.046891,
     "end_time": "2022-01-08T15:17:24.324524",
     "exception": false,
     "start_time": "2022-01-08T15:17:24.277633",
     "status": "completed"
    },
    "tags": []
   },
   "outputs": [
    {
     "data": {
      "text/html": [
       "<div>\n",
       "<style scoped>\n",
       "    .dataframe tbody tr th:only-of-type {\n",
       "        vertical-align: middle;\n",
       "    }\n",
       "\n",
       "    .dataframe tbody tr th {\n",
       "        vertical-align: top;\n",
       "    }\n",
       "\n",
       "    .dataframe thead th {\n",
       "        text-align: right;\n",
       "    }\n",
       "</style>\n",
       "<table border=\"1\" class=\"dataframe\">\n",
       "  <thead>\n",
       "    <tr style=\"text-align: right;\">\n",
       "      <th></th>\n",
       "      <th>Id</th>\n",
       "      <th>Subject Focus</th>\n",
       "      <th>Eyes</th>\n",
       "      <th>Face</th>\n",
       "      <th>Near</th>\n",
       "      <th>Action</th>\n",
       "      <th>Accessory</th>\n",
       "      <th>Group</th>\n",
       "      <th>Collage</th>\n",
       "      <th>Human</th>\n",
       "      <th>Occlusion</th>\n",
       "      <th>Info</th>\n",
       "      <th>Blur</th>\n",
       "    </tr>\n",
       "  </thead>\n",
       "  <tbody>\n",
       "    <tr>\n",
       "      <th>0</th>\n",
       "      <td>4128bae22183829d2b5fea10effdb0c3</td>\n",
       "      <td>1</td>\n",
       "      <td>0</td>\n",
       "      <td>1</td>\n",
       "      <td>0</td>\n",
       "      <td>0</td>\n",
       "      <td>1</td>\n",
       "      <td>1</td>\n",
       "      <td>0</td>\n",
       "      <td>0</td>\n",
       "      <td>1</td>\n",
       "      <td>0</td>\n",
       "      <td>1</td>\n",
       "    </tr>\n",
       "    <tr>\n",
       "      <th>1</th>\n",
       "      <td>43a2262d7738e3d420d453815151079e</td>\n",
       "      <td>0</td>\n",
       "      <td>1</td>\n",
       "      <td>0</td>\n",
       "      <td>0</td>\n",
       "      <td>0</td>\n",
       "      <td>0</td>\n",
       "      <td>1</td>\n",
       "      <td>1</td>\n",
       "      <td>0</td>\n",
       "      <td>0</td>\n",
       "      <td>0</td>\n",
       "      <td>0</td>\n",
       "    </tr>\n",
       "    <tr>\n",
       "      <th>2</th>\n",
       "      <td>4e429cead1848a298432a0acad014c9d</td>\n",
       "      <td>0</td>\n",
       "      <td>0</td>\n",
       "      <td>0</td>\n",
       "      <td>1</td>\n",
       "      <td>0</td>\n",
       "      <td>1</td>\n",
       "      <td>1</td>\n",
       "      <td>1</td>\n",
       "      <td>0</td>\n",
       "      <td>1</td>\n",
       "      <td>1</td>\n",
       "      <td>1</td>\n",
       "    </tr>\n",
       "    <tr>\n",
       "      <th>3</th>\n",
       "      <td>80bc3ccafcc51b66303c2c263aa38486</td>\n",
       "      <td>1</td>\n",
       "      <td>0</td>\n",
       "      <td>1</td>\n",
       "      <td>0</td>\n",
       "      <td>0</td>\n",
       "      <td>0</td>\n",
       "      <td>0</td>\n",
       "      <td>0</td>\n",
       "      <td>0</td>\n",
       "      <td>0</td>\n",
       "      <td>1</td>\n",
       "      <td>0</td>\n",
       "    </tr>\n",
       "    <tr>\n",
       "      <th>4</th>\n",
       "      <td>8f49844c382931444e68dffbe20228f4</td>\n",
       "      <td>1</td>\n",
       "      <td>1</td>\n",
       "      <td>1</td>\n",
       "      <td>0</td>\n",
       "      <td>1</td>\n",
       "      <td>1</td>\n",
       "      <td>0</td>\n",
       "      <td>1</td>\n",
       "      <td>0</td>\n",
       "      <td>1</td>\n",
       "      <td>1</td>\n",
       "      <td>0</td>\n",
       "    </tr>\n",
       "  </tbody>\n",
       "</table>\n",
       "</div>"
      ],
      "text/plain": [
       "                                 Id  Subject Focus  Eyes  Face  Near  Action  \\\n",
       "0  4128bae22183829d2b5fea10effdb0c3              1     0     1     0       0   \n",
       "1  43a2262d7738e3d420d453815151079e              0     1     0     0       0   \n",
       "2  4e429cead1848a298432a0acad014c9d              0     0     0     1       0   \n",
       "3  80bc3ccafcc51b66303c2c263aa38486              1     0     1     0       0   \n",
       "4  8f49844c382931444e68dffbe20228f4              1     1     1     0       1   \n",
       "\n",
       "   Accessory  Group  Collage  Human  Occlusion  Info  Blur  \n",
       "0          1      1        0      0          1     0     1  \n",
       "1          0      1        1      0          0     0     0  \n",
       "2          1      1        1      0          1     1     1  \n",
       "3          0      0        0      0          0     1     0  \n",
       "4          1      0        1      0          1     1     0  "
      ]
     },
     "execution_count": 16,
     "metadata": {},
     "output_type": "execute_result"
    }
   ],
   "source": [
    "test_df = pd.read_csv(dataset_path/'test.csv')\n",
    "test_df.head()"
   ]
  },
  {
   "cell_type": "code",
   "execution_count": 17,
   "id": "4db2e949",
   "metadata": {
    "execution": {
     "iopub.execute_input": "2022-01-08T15:17:24.381701Z",
     "iopub.status.busy": "2022-01-08T15:17:24.379495Z",
     "iopub.status.idle": "2022-01-08T15:17:24.384499Z",
     "shell.execute_reply": "2022-01-08T15:17:24.383927Z",
     "shell.execute_reply.started": "2022-01-07T17:15:00.615752Z"
    },
    "papermill": {
     "duration": 0.036341,
     "end_time": "2022-01-08T15:17:24.384631",
     "exception": false,
     "start_time": "2022-01-08T15:17:24.348290",
     "status": "completed"
    },
    "tags": []
   },
   "outputs": [],
   "source": [
    "test_df['Pawpularity'] = [1]*len(test_df)\n",
    "test_df['path'] = test_df['Id'].map(lambda x:str(dataset_path/'test'/x)+'.jpg')\n",
    "test_df = test_df.drop(columns=['Id'])\n"
   ]
  },
  {
   "cell_type": "code",
   "execution_count": 18,
   "id": "69d79770",
   "metadata": {
    "execution": {
     "iopub.execute_input": "2022-01-08T15:17:24.439561Z",
     "iopub.status.busy": "2022-01-08T15:17:24.438585Z",
     "iopub.status.idle": "2022-01-08T15:17:24.440451Z",
     "shell.execute_reply": "2022-01-08T15:17:24.441081Z"
    },
    "papermill": {
     "duration": 0.031735,
     "end_time": "2022-01-08T15:17:24.441248",
     "exception": false,
     "start_time": "2022-01-08T15:17:24.409513",
     "status": "completed"
    },
    "tags": []
   },
   "outputs": [],
   "source": [
    "# get_learner(fold_num=0).lr_find(end_lr=3e-2)"
   ]
  },
  {
   "cell_type": "code",
   "execution_count": 19,
   "id": "ec2f0bcd",
   "metadata": {
    "execution": {
     "iopub.execute_input": "2022-01-08T15:17:24.496778Z",
     "iopub.status.busy": "2022-01-08T15:17:24.495888Z",
     "iopub.status.idle": "2022-01-08T15:17:24.499612Z",
     "shell.execute_reply": "2022-01-08T15:17:24.499096Z",
     "shell.execute_reply.started": "2022-01-07T16:21:43.173513Z"
    },
    "papermill": {
     "duration": 0.033714,
     "end_time": "2022-01-08T15:17:24.499739",
     "exception": false,
     "start_time": "2022-01-08T15:17:24.466025",
     "status": "completed"
    },
    "tags": []
   },
   "outputs": [],
   "source": [
    "import gc"
   ]
  },
  {
   "cell_type": "code",
   "execution_count": 20,
   "id": "6675cdbf",
   "metadata": {
    "execution": {
     "iopub.execute_input": "2022-01-08T15:17:24.559398Z",
     "iopub.status.busy": "2022-01-08T15:17:24.557769Z",
     "iopub.status.idle": "2022-01-08T23:10:06.221615Z",
     "shell.execute_reply": "2022-01-08T23:10:06.222128Z",
     "shell.execute_reply.started": "2022-01-07T16:21:43.174875Z"
    },
    "papermill": {
     "duration": 28361.69902,
     "end_time": "2022-01-08T23:10:06.222360",
     "exception": false,
     "start_time": "2022-01-08T15:17:24.523340",
     "status": "completed"
    },
    "tags": []
   },
   "outputs": [
    {
     "name": "stdout",
     "output_type": "stream",
     "text": [
      "Fold 4 results\n"
     ]
    },
    {
     "data": {
      "text/html": [
       "<table border=\"1\" class=\"dataframe\">\n",
       "  <thead>\n",
       "    <tr style=\"text-align: left;\">\n",
       "      <th>epoch</th>\n",
       "      <th>train_loss</th>\n",
       "      <th>valid_loss</th>\n",
       "      <th>petfinder_rmse</th>\n",
       "      <th>time</th>\n",
       "    </tr>\n",
       "  </thead>\n",
       "  <tbody>\n",
       "    <tr>\n",
       "      <td>0</td>\n",
       "      <td>0.653776</td>\n",
       "      <td>0.648928</td>\n",
       "      <td>17.317354</td>\n",
       "      <td>23:35</td>\n",
       "    </tr>\n",
       "    <tr>\n",
       "      <td>1</td>\n",
       "      <td>0.653782</td>\n",
       "      <td>0.641120</td>\n",
       "      <td>16.461285</td>\n",
       "      <td>23:33</td>\n",
       "    </tr>\n",
       "    <tr>\n",
       "      <td>2</td>\n",
       "      <td>0.646735</td>\n",
       "      <td>0.640263</td>\n",
       "      <td>16.199007</td>\n",
       "      <td>23:32</td>\n",
       "    </tr>\n",
       "    <tr>\n",
       "      <td>3</td>\n",
       "      <td>0.633703</td>\n",
       "      <td>0.639039</td>\n",
       "      <td>16.075731</td>\n",
       "      <td>23:33</td>\n",
       "    </tr>\n",
       "    <tr>\n",
       "      <td>4</td>\n",
       "      <td>0.643182</td>\n",
       "      <td>0.638492</td>\n",
       "      <td>15.962366</td>\n",
       "      <td>23:32</td>\n",
       "    </tr>\n",
       "  </tbody>\n",
       "</table>"
      ],
      "text/plain": [
       "<IPython.core.display.HTML object>"
      ]
     },
     "metadata": {},
     "output_type": "display_data"
    },
    {
     "name": "stderr",
     "output_type": "stream",
     "text": [
      "/opt/conda/lib/python3.7/site-packages/torch/nn/functional.py:1805: UserWarning: nn.functional.sigmoid is deprecated. Use torch.sigmoid instead.\n",
      "  warnings.warn(\"nn.functional.sigmoid is deprecated. Use torch.sigmoid instead.\")\n"
     ]
    },
    {
     "name": "stdout",
     "output_type": "stream",
     "text": [
      "Better model found at epoch 0 with valid_loss value: 0.6489284038543701.\n",
      "Better model found at epoch 1 with valid_loss value: 0.6411197185516357.\n",
      "Better model found at epoch 2 with valid_loss value: 0.6402629017829895.\n",
      "Better model found at epoch 3 with valid_loss value: 0.6390390992164612.\n",
      "Better model found at epoch 4 with valid_loss value: 0.6384919285774231.\n"
     ]
    },
    {
     "data": {
      "text/html": [
       "\n",
       "    <div>\n",
       "        <style>\n",
       "            /* Turns off some styling */\n",
       "            progress {\n",
       "                /* gets rid of default border in Firefox and Opera. */\n",
       "                border: none;\n",
       "                /* Needs to be in here for Safari polyfill so background images work as expected. */\n",
       "                background-size: auto;\n",
       "            }\n",
       "            .progress-bar-interrupted, .progress-bar-interrupted::-webkit-progress-bar {\n",
       "                background: #F44336;\n",
       "            }\n",
       "        </style>\n",
       "      <progress value='0' class='' max='5' style='width:300px; height:20px; vertical-align: middle;'></progress>\n",
       "      \n",
       "    </div>\n",
       "    \n"
      ],
      "text/plain": [
       "<IPython.core.display.HTML object>"
      ]
     },
     "metadata": {},
     "output_type": "display_data"
    },
    {
     "data": {
      "text/html": [],
      "text/plain": [
       "<IPython.core.display.HTML object>"
      ]
     },
     "metadata": {},
     "output_type": "display_data"
    },
    {
     "name": "stdout",
     "output_type": "stream",
     "text": [
      "Fold 5 results\n"
     ]
    },
    {
     "data": {
      "text/html": [
       "<table border=\"1\" class=\"dataframe\">\n",
       "  <thead>\n",
       "    <tr style=\"text-align: left;\">\n",
       "      <th>epoch</th>\n",
       "      <th>train_loss</th>\n",
       "      <th>valid_loss</th>\n",
       "      <th>petfinder_rmse</th>\n",
       "      <th>time</th>\n",
       "    </tr>\n",
       "  </thead>\n",
       "  <tbody>\n",
       "    <tr>\n",
       "      <td>0</td>\n",
       "      <td>0.654990</td>\n",
       "      <td>0.656566</td>\n",
       "      <td>18.882023</td>\n",
       "      <td>23:32</td>\n",
       "    </tr>\n",
       "    <tr>\n",
       "      <td>1</td>\n",
       "      <td>0.650024</td>\n",
       "      <td>0.648737</td>\n",
       "      <td>17.167345</td>\n",
       "      <td>23:32</td>\n",
       "    </tr>\n",
       "    <tr>\n",
       "      <td>2</td>\n",
       "      <td>0.647953</td>\n",
       "      <td>0.642308</td>\n",
       "      <td>16.541101</td>\n",
       "      <td>23:33</td>\n",
       "    </tr>\n",
       "    <tr>\n",
       "      <td>3</td>\n",
       "      <td>0.632798</td>\n",
       "      <td>0.643197</td>\n",
       "      <td>16.642031</td>\n",
       "      <td>23:33</td>\n",
       "    </tr>\n",
       "    <tr>\n",
       "      <td>4</td>\n",
       "      <td>0.636894</td>\n",
       "      <td>0.643938</td>\n",
       "      <td>16.663830</td>\n",
       "      <td>23:32</td>\n",
       "    </tr>\n",
       "  </tbody>\n",
       "</table>"
      ],
      "text/plain": [
       "<IPython.core.display.HTML object>"
      ]
     },
     "metadata": {},
     "output_type": "display_data"
    },
    {
     "name": "stderr",
     "output_type": "stream",
     "text": [
      "/opt/conda/lib/python3.7/site-packages/torch/nn/functional.py:1805: UserWarning: nn.functional.sigmoid is deprecated. Use torch.sigmoid instead.\n",
      "  warnings.warn(\"nn.functional.sigmoid is deprecated. Use torch.sigmoid instead.\")\n"
     ]
    },
    {
     "name": "stdout",
     "output_type": "stream",
     "text": [
      "Better model found at epoch 0 with valid_loss value: 0.65656578540802.\n",
      "Better model found at epoch 1 with valid_loss value: 0.6487371921539307.\n",
      "Better model found at epoch 2 with valid_loss value: 0.642308235168457.\n",
      "No improvement since epoch 2: early stopping\n"
     ]
    },
    {
     "data": {
      "text/html": [
       "\n",
       "    <div>\n",
       "        <style>\n",
       "            /* Turns off some styling */\n",
       "            progress {\n",
       "                /* gets rid of default border in Firefox and Opera. */\n",
       "                border: none;\n",
       "                /* Needs to be in here for Safari polyfill so background images work as expected. */\n",
       "                background-size: auto;\n",
       "            }\n",
       "            .progress-bar-interrupted, .progress-bar-interrupted::-webkit-progress-bar {\n",
       "                background: #F44336;\n",
       "            }\n",
       "        </style>\n",
       "      <progress value='0' class='' max='5' style='width:300px; height:20px; vertical-align: middle;'></progress>\n",
       "      \n",
       "    </div>\n",
       "    \n"
      ],
      "text/plain": [
       "<IPython.core.display.HTML object>"
      ]
     },
     "metadata": {},
     "output_type": "display_data"
    },
    {
     "data": {
      "text/html": [],
      "text/plain": [
       "<IPython.core.display.HTML object>"
      ]
     },
     "metadata": {},
     "output_type": "display_data"
    },
    {
     "name": "stdout",
     "output_type": "stream",
     "text": [
      "Fold 6 results\n"
     ]
    },
    {
     "data": {
      "text/html": [
       "<table border=\"1\" class=\"dataframe\">\n",
       "  <thead>\n",
       "    <tr style=\"text-align: left;\">\n",
       "      <th>epoch</th>\n",
       "      <th>train_loss</th>\n",
       "      <th>valid_loss</th>\n",
       "      <th>petfinder_rmse</th>\n",
       "      <th>time</th>\n",
       "    </tr>\n",
       "  </thead>\n",
       "  <tbody>\n",
       "    <tr>\n",
       "      <td>0</td>\n",
       "      <td>0.660967</td>\n",
       "      <td>0.649577</td>\n",
       "      <td>17.730389</td>\n",
       "      <td>23:33</td>\n",
       "    </tr>\n",
       "    <tr>\n",
       "      <td>1</td>\n",
       "      <td>0.654817</td>\n",
       "      <td>0.643671</td>\n",
       "      <td>16.718819</td>\n",
       "      <td>23:33</td>\n",
       "    </tr>\n",
       "    <tr>\n",
       "      <td>2</td>\n",
       "      <td>0.649817</td>\n",
       "      <td>0.645368</td>\n",
       "      <td>17.093010</td>\n",
       "      <td>23:33</td>\n",
       "    </tr>\n",
       "    <tr>\n",
       "      <td>3</td>\n",
       "      <td>0.637475</td>\n",
       "      <td>0.641076</td>\n",
       "      <td>16.210783</td>\n",
       "      <td>23:32</td>\n",
       "    </tr>\n",
       "    <tr>\n",
       "      <td>4</td>\n",
       "      <td>0.633977</td>\n",
       "      <td>0.640893</td>\n",
       "      <td>16.156635</td>\n",
       "      <td>23:34</td>\n",
       "    </tr>\n",
       "  </tbody>\n",
       "</table>"
      ],
      "text/plain": [
       "<IPython.core.display.HTML object>"
      ]
     },
     "metadata": {},
     "output_type": "display_data"
    },
    {
     "name": "stderr",
     "output_type": "stream",
     "text": [
      "/opt/conda/lib/python3.7/site-packages/torch/nn/functional.py:1805: UserWarning: nn.functional.sigmoid is deprecated. Use torch.sigmoid instead.\n",
      "  warnings.warn(\"nn.functional.sigmoid is deprecated. Use torch.sigmoid instead.\")\n"
     ]
    },
    {
     "name": "stdout",
     "output_type": "stream",
     "text": [
      "Better model found at epoch 0 with valid_loss value: 0.649576723575592.\n",
      "Better model found at epoch 1 with valid_loss value: 0.6436712145805359.\n",
      "Better model found at epoch 3 with valid_loss value: 0.6410762071609497.\n",
      "Better model found at epoch 4 with valid_loss value: 0.6408931612968445.\n"
     ]
    },
    {
     "data": {
      "text/html": [
       "\n",
       "    <div>\n",
       "        <style>\n",
       "            /* Turns off some styling */\n",
       "            progress {\n",
       "                /* gets rid of default border in Firefox and Opera. */\n",
       "                border: none;\n",
       "                /* Needs to be in here for Safari polyfill so background images work as expected. */\n",
       "                background-size: auto;\n",
       "            }\n",
       "            .progress-bar-interrupted, .progress-bar-interrupted::-webkit-progress-bar {\n",
       "                background: #F44336;\n",
       "            }\n",
       "        </style>\n",
       "      <progress value='0' class='' max='5' style='width:300px; height:20px; vertical-align: middle;'></progress>\n",
       "      \n",
       "    </div>\n",
       "    \n"
      ],
      "text/plain": [
       "<IPython.core.display.HTML object>"
      ]
     },
     "metadata": {},
     "output_type": "display_data"
    },
    {
     "data": {
      "text/html": [],
      "text/plain": [
       "<IPython.core.display.HTML object>"
      ]
     },
     "metadata": {},
     "output_type": "display_data"
    },
    {
     "name": "stdout",
     "output_type": "stream",
     "text": [
      "Fold 7 results\n"
     ]
    },
    {
     "data": {
      "text/html": [
       "<table border=\"1\" class=\"dataframe\">\n",
       "  <thead>\n",
       "    <tr style=\"text-align: left;\">\n",
       "      <th>epoch</th>\n",
       "      <th>train_loss</th>\n",
       "      <th>valid_loss</th>\n",
       "      <th>petfinder_rmse</th>\n",
       "      <th>time</th>\n",
       "    </tr>\n",
       "  </thead>\n",
       "  <tbody>\n",
       "    <tr>\n",
       "      <td>0</td>\n",
       "      <td>0.649243</td>\n",
       "      <td>0.643083</td>\n",
       "      <td>16.688105</td>\n",
       "      <td>23:33</td>\n",
       "    </tr>\n",
       "    <tr>\n",
       "      <td>1</td>\n",
       "      <td>0.654652</td>\n",
       "      <td>0.641033</td>\n",
       "      <td>16.583523</td>\n",
       "      <td>23:33</td>\n",
       "    </tr>\n",
       "    <tr>\n",
       "      <td>2</td>\n",
       "      <td>0.646217</td>\n",
       "      <td>0.639307</td>\n",
       "      <td>16.203796</td>\n",
       "      <td>23:33</td>\n",
       "    </tr>\n",
       "    <tr>\n",
       "      <td>3</td>\n",
       "      <td>0.642536</td>\n",
       "      <td>0.637747</td>\n",
       "      <td>16.020630</td>\n",
       "      <td>23:32</td>\n",
       "    </tr>\n",
       "    <tr>\n",
       "      <td>4</td>\n",
       "      <td>0.642313</td>\n",
       "      <td>0.636434</td>\n",
       "      <td>15.827528</td>\n",
       "      <td>23:34</td>\n",
       "    </tr>\n",
       "  </tbody>\n",
       "</table>"
      ],
      "text/plain": [
       "<IPython.core.display.HTML object>"
      ]
     },
     "metadata": {},
     "output_type": "display_data"
    },
    {
     "name": "stderr",
     "output_type": "stream",
     "text": [
      "/opt/conda/lib/python3.7/site-packages/torch/nn/functional.py:1805: UserWarning: nn.functional.sigmoid is deprecated. Use torch.sigmoid instead.\n",
      "  warnings.warn(\"nn.functional.sigmoid is deprecated. Use torch.sigmoid instead.\")\n"
     ]
    },
    {
     "name": "stdout",
     "output_type": "stream",
     "text": [
      "Better model found at epoch 0 with valid_loss value: 0.6430827975273132.\n",
      "Better model found at epoch 1 with valid_loss value: 0.6410329341888428.\n",
      "Better model found at epoch 2 with valid_loss value: 0.6393073797225952.\n",
      "Better model found at epoch 3 with valid_loss value: 0.6377468109130859.\n",
      "Better model found at epoch 4 with valid_loss value: 0.6364343762397766.\n"
     ]
    },
    {
     "data": {
      "text/html": [
       "\n",
       "    <div>\n",
       "        <style>\n",
       "            /* Turns off some styling */\n",
       "            progress {\n",
       "                /* gets rid of default border in Firefox and Opera. */\n",
       "                border: none;\n",
       "                /* Needs to be in here for Safari polyfill so background images work as expected. */\n",
       "                background-size: auto;\n",
       "            }\n",
       "            .progress-bar-interrupted, .progress-bar-interrupted::-webkit-progress-bar {\n",
       "                background: #F44336;\n",
       "            }\n",
       "        </style>\n",
       "      <progress value='0' class='' max='5' style='width:300px; height:20px; vertical-align: middle;'></progress>\n",
       "      \n",
       "    </div>\n",
       "    \n"
      ],
      "text/plain": [
       "<IPython.core.display.HTML object>"
      ]
     },
     "metadata": {},
     "output_type": "display_data"
    },
    {
     "data": {
      "text/html": [],
      "text/plain": [
       "<IPython.core.display.HTML object>"
      ]
     },
     "metadata": {},
     "output_type": "display_data"
    },
    {
     "data": {
      "image/png": "[encoded data removed]",
      "text/plain": [
       "<Figure size 432x288 with 1 Axes>"
      ]
     },
     "metadata": {
      "needs_background": "light"
     },
     "output_type": "display_data"
    }
   ],
   "source": [
    "#3.75 *10-5\n",
    "\n",
    "all_preds = []\n",
    "for i in range(4,8):\n",
    "    print(f'Fold {i} results')\n",
    "    learn = get_learner(fold_num=i)\n",
    "    learn.fit_one_cycle(5, 3e-05, cbs=[SaveModelCallback(), EarlyStoppingCallback(monitor='petfinder_rmse', comp=np.less, patience=2)]) \n",
    "    learn.recorder.plot_loss()\n",
    "    dls = ImageDataLoaders.from_df(train_df,\n",
    "                               valid_pct=0.2,\n",
    "                               seed=999,  \n",
    "                               fn_col='path', \n",
    "                               label_col='norm_score', \n",
    "                               y_block=RegressionBlock,\n",
    "                               bs=BATCH_SIZE, \n",
    "                               num_workers=8,\n",
    "                               item_tfms=Resize(384),\n",
    "                               batch_tfms=setup_aug_tfms([Brightness(), Contrast(), Hue(), Saturation()])) \n",
    "    test_dl = dls.test_dl(test_df)\n",
    "    preds, _ = learn.tta(dl=test_dl, n=5, beta=0)\n",
    "    all_preds.append(preds)\n",
    "    torch.save(learn.model, \"model_swin_384_\"+str(i)+\".pt\")\n",
    "    del learn\n",
    "    torch.cuda.empty_cache()\n",
    "    gc.collect()"
   ]
  },
  {
   "cell_type": "code",
   "execution_count": 21,
   "id": "8cbe06a6",
   "metadata": {
    "execution": {
     "iopub.execute_input": "2022-01-08T23:10:06.300542Z",
     "iopub.status.busy": "2022-01-08T23:10:06.299931Z",
     "iopub.status.idle": "2022-01-08T23:10:06.328742Z",
     "shell.execute_reply": "2022-01-08T23:10:06.328156Z",
     "shell.execute_reply.started": "2022-01-03T11:58:53.03229Z"
    },
    "papermill": {
     "duration": 0.071411,
     "end_time": "2022-01-08T23:10:06.328893",
     "exception": false,
     "start_time": "2022-01-08T23:10:06.257482",
     "status": "completed"
    },
    "tags": []
   },
   "outputs": [],
   "source": [
    "sample_df = pd.read_csv(dataset_path/'sample_submission.csv')\n",
    "preds = np.mean(np.stack(all_preds), axis=0)\n",
    "sample_df['Pawpularity'] = preds*100\n",
    "sample_df.to_csv('submission.csv',index=False)"
   ]
  },
  {
   "cell_type": "code",
   "execution_count": 22,
   "id": "46747e9c",
   "metadata": {
    "execution": {
     "iopub.execute_input": "2022-01-08T23:10:06.407520Z",
     "iopub.status.busy": "2022-01-08T23:10:06.406708Z",
     "iopub.status.idle": "2022-01-08T23:10:06.416545Z",
     "shell.execute_reply": "2022-01-08T23:10:06.417013Z"
    },
    "papermill": {
     "duration": 0.050474,
     "end_time": "2022-01-08T23:10:06.417180",
     "exception": false,
     "start_time": "2022-01-08T23:10:06.366706",
     "status": "completed"
    },
    "tags": []
   },
   "outputs": [
    {
     "data": {
      "text/html": [
       "<div>\n",
       "<style scoped>\n",
       "    .dataframe tbody tr th:only-of-type {\n",
       "        vertical-align: middle;\n",
       "    }\n",
       "\n",
       "    .dataframe tbody tr th {\n",
       "        vertical-align: top;\n",
       "    }\n",
       "\n",
       "    .dataframe thead th {\n",
       "        text-align: right;\n",
       "    }\n",
       "</style>\n",
       "<table border=\"1\" class=\"dataframe\">\n",
       "  <thead>\n",
       "    <tr style=\"text-align: right;\">\n",
       "      <th></th>\n",
       "      <th>Id</th>\n",
       "      <th>Pawpularity</th>\n",
       "    </tr>\n",
       "  </thead>\n",
       "  <tbody>\n",
       "    <tr>\n",
       "      <th>0</th>\n",
       "      <td>4128bae22183829d2b5fea10effdb0c3</td>\n",
       "      <td>40.591360</td>\n",
       "    </tr>\n",
       "    <tr>\n",
       "      <th>1</th>\n",
       "      <td>43a2262d7738e3d420d453815151079e</td>\n",
       "      <td>41.119785</td>\n",
       "    </tr>\n",
       "    <tr>\n",
       "      <th>2</th>\n",
       "      <td>4e429cead1848a298432a0acad014c9d</td>\n",
       "      <td>40.423370</td>\n",
       "    </tr>\n",
       "    <tr>\n",
       "      <th>3</th>\n",
       "      <td>80bc3ccafcc51b66303c2c263aa38486</td>\n",
       "      <td>40.618670</td>\n",
       "    </tr>\n",
       "    <tr>\n",
       "      <th>4</th>\n",
       "      <td>8f49844c382931444e68dffbe20228f4</td>\n",
       "      <td>40.317886</td>\n",
       "    </tr>\n",
       "  </tbody>\n",
       "</table>\n",
       "</div>"
      ],
      "text/plain": [
       "                                 Id  Pawpularity\n",
       "0  4128bae22183829d2b5fea10effdb0c3    40.591360\n",
       "1  43a2262d7738e3d420d453815151079e    41.119785\n",
       "2  4e429cead1848a298432a0acad014c9d    40.423370\n",
       "3  80bc3ccafcc51b66303c2c263aa38486    40.618670\n",
       "4  8f49844c382931444e68dffbe20228f4    40.317886"
      ]
     },
     "execution_count": 22,
     "metadata": {},
     "output_type": "execute_result"
    }
   ],
   "source": [
    "pd.read_csv('submission.csv').head()"
   ]
  }
 ],
 "metadata": {
  "kernelspec": {
   "display_name": "Python 3",
   "language": "python",
   "name": "python3"
  },
  "language_info": {
   "codemirror_mode": {
    "name": "ipython",
    "version": 3
   },
   "file_extension": ".py",
   "mimetype": "text/x-python",
   "name": "python",
   "nbconvert_exporter": "python",
   "pygments_lexer": "ipython3",
   "version": "3.7.10"
  },
  "papermill": {
   "default_parameters": {},
   "duration": 28398.842363,
   "end_time": "2022-01-08T23:10:09.957144",
   "environment_variables": {},
   "exception": null,
   "input_path": "__notebook__.ipynb",
   "output_path": "__notebook__.ipynb",
   "parameters": {},
   "start_time": "2022-01-08T15:16:51.114781",
   "version": "2.3.3"
  }
 },
 "nbformat": 4,
 "nbformat_minor": 5
}
