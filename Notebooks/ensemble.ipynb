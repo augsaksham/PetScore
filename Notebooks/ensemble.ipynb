{
 "cells": [
  {
   "cell_type": "code",
   "execution_count": 1,
   "id": "f6b70af7",
   "metadata": {
    "execution": {
     "iopub.execute_input": "2022-01-09T09:27:06.972070Z",
     "iopub.status.busy": "2022-01-09T09:27:06.971302Z",
     "iopub.status.idle": "2022-01-09T09:27:14.962668Z",
     "shell.execute_reply": "2022-01-09T09:27:14.963218Z",
     "shell.execute_reply.started": "2022-01-09T08:41:39.879237Z"
    },
    "papermill": {
     "duration": 8.025442,
     "end_time": "2022-01-09T09:27:14.963495",
     "exception": false,
     "start_time": "2022-01-09T09:27:06.938053",
     "status": "completed"
    },
    "tags": []
   },
   "outputs": [
    {
     "data": {
      "text/html": [
       "<div>\n",
       "<style scoped>\n",
       "    .dataframe tbody tr th:only-of-type {\n",
       "        vertical-align: middle;\n",
       "    }\n",
       "\n",
       "    .dataframe tbody tr th {\n",
       "        vertical-align: top;\n",
       "    }\n",
       "\n",
       "    .dataframe thead th {\n",
       "        text-align: right;\n",
       "    }\n",
       "</style>\n",
       "<table border=\"1\" class=\"dataframe\">\n",
       "  <thead>\n",
       "    <tr style=\"text-align: right;\">\n",
       "      <th></th>\n",
       "      <th>Id</th>\n",
       "      <th>Subject Focus</th>\n",
       "      <th>Eyes</th>\n",
       "      <th>Face</th>\n",
       "      <th>Near</th>\n",
       "      <th>Action</th>\n",
       "      <th>Accessory</th>\n",
       "      <th>Group</th>\n",
       "      <th>Collage</th>\n",
       "      <th>Human</th>\n",
       "      <th>Occlusion</th>\n",
       "      <th>Info</th>\n",
       "      <th>Blur</th>\n",
       "      <th>Pawpularity</th>\n",
       "    </tr>\n",
       "  </thead>\n",
       "  <tbody>\n",
       "    <tr>\n",
       "      <th>0</th>\n",
       "      <td>0007de18844b0dbbb5e1f607da0606e0</td>\n",
       "      <td>0</td>\n",
       "      <td>1</td>\n",
       "      <td>1</td>\n",
       "      <td>1</td>\n",
       "      <td>0</td>\n",
       "      <td>0</td>\n",
       "      <td>1</td>\n",
       "      <td>0</td>\n",
       "      <td>0</td>\n",
       "      <td>0</td>\n",
       "      <td>0</td>\n",
       "      <td>0</td>\n",
       "      <td>63</td>\n",
       "    </tr>\n",
       "    <tr>\n",
       "      <th>1</th>\n",
       "      <td>0009c66b9439883ba2750fb825e1d7db</td>\n",
       "      <td>0</td>\n",
       "      <td>1</td>\n",
       "      <td>1</td>\n",
       "      <td>0</td>\n",
       "      <td>0</td>\n",
       "      <td>0</td>\n",
       "      <td>0</td>\n",
       "      <td>0</td>\n",
       "      <td>0</td>\n",
       "      <td>0</td>\n",
       "      <td>0</td>\n",
       "      <td>0</td>\n",
       "      <td>42</td>\n",
       "    </tr>\n",
       "    <tr>\n",
       "      <th>2</th>\n",
       "      <td>0013fd999caf9a3efe1352ca1b0d937e</td>\n",
       "      <td>0</td>\n",
       "      <td>1</td>\n",
       "      <td>1</td>\n",
       "      <td>1</td>\n",
       "      <td>0</td>\n",
       "      <td>0</td>\n",
       "      <td>0</td>\n",
       "      <td>0</td>\n",
       "      <td>1</td>\n",
       "      <td>1</td>\n",
       "      <td>0</td>\n",
       "      <td>0</td>\n",
       "      <td>28</td>\n",
       "    </tr>\n",
       "    <tr>\n",
       "      <th>3</th>\n",
       "      <td>0018df346ac9c1d8413cfcc888ca8246</td>\n",
       "      <td>0</td>\n",
       "      <td>1</td>\n",
       "      <td>1</td>\n",
       "      <td>1</td>\n",
       "      <td>0</td>\n",
       "      <td>0</td>\n",
       "      <td>0</td>\n",
       "      <td>0</td>\n",
       "      <td>0</td>\n",
       "      <td>0</td>\n",
       "      <td>0</td>\n",
       "      <td>0</td>\n",
       "      <td>15</td>\n",
       "    </tr>\n",
       "    <tr>\n",
       "      <th>4</th>\n",
       "      <td>001dc955e10590d3ca4673f034feeef2</td>\n",
       "      <td>0</td>\n",
       "      <td>0</td>\n",
       "      <td>0</td>\n",
       "      <td>1</td>\n",
       "      <td>0</td>\n",
       "      <td>0</td>\n",
       "      <td>1</td>\n",
       "      <td>0</td>\n",
       "      <td>0</td>\n",
       "      <td>0</td>\n",
       "      <td>0</td>\n",
       "      <td>0</td>\n",
       "      <td>72</td>\n",
       "    </tr>\n",
       "  </tbody>\n",
       "</table>\n",
       "</div>"
      ],
      "text/plain": [
       "                                 Id  Subject Focus  Eyes  Face  Near  Action  \\\n",
       "0  0007de18844b0dbbb5e1f607da0606e0              0     1     1     1       0   \n",
       "1  0009c66b9439883ba2750fb825e1d7db              0     1     1     0       0   \n",
       "2  0013fd999caf9a3efe1352ca1b0d937e              0     1     1     1       0   \n",
       "3  0018df346ac9c1d8413cfcc888ca8246              0     1     1     1       0   \n",
       "4  001dc955e10590d3ca4673f034feeef2              0     0     0     1       0   \n",
       "\n",
       "   Accessory  Group  Collage  Human  Occlusion  Info  Blur  Pawpularity  \n",
       "0          0      1        0      0          0     0     0           63  \n",
       "1          0      0        0      0          0     0     0           42  \n",
       "2          0      0        0      1          1     0     0           28  \n",
       "3          0      0        0      0          0     0     0           15  \n",
       "4          0      1        0      0          0     0     0           72  "
      ]
     },
     "execution_count": 1,
     "metadata": {},
     "output_type": "execute_result"
    }
   ],
   "source": [
    "import sys\n",
    "sys.path.append('../input/timm-pytorch-image-models/pytorch-image-models-master')\n",
    "from timm import create_model\n",
    "from fastai.vision.all import *\n",
    "set_seed(999, reproducible=True)\n",
    "BATCH_SIZE = 8                       \n",
    "dataset_path = Path('../input/petfinder-pawpularity-score/')\n",
    "dataset_path.ls()\n",
    "train_df = pd.read_csv(dataset_path/'train.csv')\n",
    "train_df.head()"
   ]
  },
  {
   "cell_type": "code",
   "execution_count": 2,
   "id": "f6bb06d2",
   "metadata": {
    "execution": {
     "iopub.execute_input": "2022-01-09T09:27:15.007541Z",
     "iopub.status.busy": "2022-01-09T09:27:15.006713Z",
     "iopub.status.idle": "2022-01-09T09:27:15.008509Z",
     "shell.execute_reply": "2022-01-09T09:27:15.008982Z",
     "shell.execute_reply.started": "2022-01-09T08:58:34.185105Z"
    },
    "papermill": {
     "duration": 0.025848,
     "end_time": "2022-01-09T09:27:15.009112",
     "exception": false,
     "start_time": "2022-01-09T09:27:14.983264",
     "status": "completed"
    },
    "tags": []
   },
   "outputs": [],
   "source": [
    "n_models=3\n",
    "batch_models=[32,24,24] #batch for swin_224,vision_224,swin_384\n",
    "image_siz=[224,384,384]  #image_size for swin_224,vision_224,swin_384\n",
    "input_path='../input/transformer-ensemble/model_'\n",
    "models_path=['swin_','swin_384_0','swin_384_']\n",
    "model_folds=[10,4,8]\n",
    "req_features=[]"
   ]
  },
  {
   "cell_type": "code",
   "execution_count": 3,
   "id": "94750883",
   "metadata": {
    "execution": {
     "iopub.execute_input": "2022-01-09T09:27:15.051873Z",
     "iopub.status.busy": "2022-01-09T09:27:15.051242Z",
     "iopub.status.idle": "2022-01-09T09:27:15.053747Z",
     "shell.execute_reply": "2022-01-09T09:27:15.054255Z",
     "shell.execute_reply.started": "2022-01-09T08:51:03.878748Z"
    },
    "papermill": {
     "duration": 0.026516,
     "end_time": "2022-01-09T09:27:15.054372",
     "exception": false,
     "start_time": "2022-01-09T09:27:15.027856",
     "status": "completed"
    },
    "tags": []
   },
   "outputs": [
    {
     "data": {
      "text/plain": [
       "224"
      ]
     },
     "execution_count": 3,
     "metadata": {},
     "output_type": "execute_result"
    }
   ],
   "source": [
    "image_siz[0]"
   ]
  },
  {
   "cell_type": "code",
   "execution_count": 4,
   "id": "66931d3f",
   "metadata": {
    "execution": {
     "iopub.execute_input": "2022-01-09T09:27:15.096843Z",
     "iopub.status.busy": "2022-01-09T09:27:15.096300Z",
     "iopub.status.idle": "2022-01-09T09:27:15.106460Z",
     "shell.execute_reply": "2022-01-09T09:27:15.105932Z",
     "shell.execute_reply.started": "2022-01-09T08:41:47.886293Z"
    },
    "papermill": {
     "duration": 0.033179,
     "end_time": "2022-01-09T09:27:15.106567",
     "exception": false,
     "start_time": "2022-01-09T09:27:15.073388",
     "status": "completed"
    },
    "tags": []
   },
   "outputs": [],
   "source": [
    "test_df = pd.read_csv(dataset_path/'test.csv')\n",
    "new_df=pd.DataFrame()\n",
    "new_test_df=pd.DataFrame()\n",
    "new_test_df.index=test_df.Id\n"
   ]
  },
  {
   "cell_type": "code",
   "execution_count": 5,
   "id": "8f0157a3",
   "metadata": {
    "execution": {
     "iopub.execute_input": "2022-01-09T09:27:15.147515Z",
     "iopub.status.busy": "2022-01-09T09:27:15.146728Z",
     "iopub.status.idle": "2022-01-09T09:27:15.291511Z",
     "shell.execute_reply": "2022-01-09T09:27:15.291964Z",
     "shell.execute_reply.started": "2022-01-09T08:41:47.906011Z"
    },
    "papermill": {
     "duration": 0.166523,
     "end_time": "2022-01-09T09:27:15.292120",
     "exception": false,
     "start_time": "2022-01-09T09:27:15.125597",
     "status": "completed"
    },
    "tags": []
   },
   "outputs": [
    {
     "data": {
      "text/html": [
       "<div>\n",
       "<style scoped>\n",
       "    .dataframe tbody tr th:only-of-type {\n",
       "        vertical-align: middle;\n",
       "    }\n",
       "\n",
       "    .dataframe tbody tr th {\n",
       "        vertical-align: top;\n",
       "    }\n",
       "\n",
       "    .dataframe thead th {\n",
       "        text-align: right;\n",
       "    }\n",
       "</style>\n",
       "<table border=\"1\" class=\"dataframe\">\n",
       "  <thead>\n",
       "    <tr style=\"text-align: right;\">\n",
       "      <th></th>\n",
       "      <th>Subject Focus</th>\n",
       "      <th>Eyes</th>\n",
       "      <th>Face</th>\n",
       "      <th>Near</th>\n",
       "      <th>Action</th>\n",
       "      <th>Accessory</th>\n",
       "      <th>Group</th>\n",
       "      <th>Collage</th>\n",
       "      <th>Human</th>\n",
       "      <th>Occlusion</th>\n",
       "      <th>Info</th>\n",
       "      <th>Blur</th>\n",
       "      <th>Pawpularity</th>\n",
       "      <th>path</th>\n",
       "    </tr>\n",
       "  </thead>\n",
       "  <tbody>\n",
       "    <tr>\n",
       "      <th>0</th>\n",
       "      <td>0</td>\n",
       "      <td>0</td>\n",
       "      <td>1</td>\n",
       "      <td>1</td>\n",
       "      <td>0</td>\n",
       "      <td>0</td>\n",
       "      <td>0</td>\n",
       "      <td>0</td>\n",
       "      <td>0</td>\n",
       "      <td>0</td>\n",
       "      <td>0</td>\n",
       "      <td>1</td>\n",
       "      <td>50</td>\n",
       "      <td>../input/petfinder-pawpularity-score/train/ebaaa8e384b3d2f0a56c7ff7675c154c.jpg</td>\n",
       "    </tr>\n",
       "    <tr>\n",
       "      <th>1</th>\n",
       "      <td>0</td>\n",
       "      <td>1</td>\n",
       "      <td>1</td>\n",
       "      <td>1</td>\n",
       "      <td>0</td>\n",
       "      <td>1</td>\n",
       "      <td>0</td>\n",
       "      <td>1</td>\n",
       "      <td>0</td>\n",
       "      <td>0</td>\n",
       "      <td>1</td>\n",
       "      <td>0</td>\n",
       "      <td>25</td>\n",
       "      <td>../input/petfinder-pawpularity-score/train/25e3bf4267c2dc3f579b779418221bb7.jpg</td>\n",
       "    </tr>\n",
       "    <tr>\n",
       "      <th>2</th>\n",
       "      <td>0</td>\n",
       "      <td>0</td>\n",
       "      <td>1</td>\n",
       "      <td>1</td>\n",
       "      <td>0</td>\n",
       "      <td>1</td>\n",
       "      <td>0</td>\n",
       "      <td>0</td>\n",
       "      <td>0</td>\n",
       "      <td>0</td>\n",
       "      <td>0</td>\n",
       "      <td>0</td>\n",
       "      <td>27</td>\n",
       "      <td>../input/petfinder-pawpularity-score/train/6548166fb3fda22b67881176397f0223.jpg</td>\n",
       "    </tr>\n",
       "    <tr>\n",
       "      <th>3</th>\n",
       "      <td>0</td>\n",
       "      <td>1</td>\n",
       "      <td>1</td>\n",
       "      <td>1</td>\n",
       "      <td>0</td>\n",
       "      <td>0</td>\n",
       "      <td>0</td>\n",
       "      <td>0</td>\n",
       "      <td>1</td>\n",
       "      <td>1</td>\n",
       "      <td>0</td>\n",
       "      <td>0</td>\n",
       "      <td>19</td>\n",
       "      <td>../input/petfinder-pawpularity-score/train/472c40116e1833555715e4774445ae5b.jpg</td>\n",
       "    </tr>\n",
       "    <tr>\n",
       "      <th>4</th>\n",
       "      <td>0</td>\n",
       "      <td>1</td>\n",
       "      <td>1</td>\n",
       "      <td>1</td>\n",
       "      <td>0</td>\n",
       "      <td>0</td>\n",
       "      <td>0</td>\n",
       "      <td>1</td>\n",
       "      <td>0</td>\n",
       "      <td>0</td>\n",
       "      <td>0</td>\n",
       "      <td>0</td>\n",
       "      <td>27</td>\n",
       "      <td>../input/petfinder-pawpularity-score/train/7b77e1a6d93667b575d57db83facd860.jpg</td>\n",
       "    </tr>\n",
       "  </tbody>\n",
       "</table>\n",
       "</div>"
      ],
      "text/plain": [
       "   Subject Focus  Eyes  Face  Near  Action  Accessory  Group  Collage  Human  \\\n",
       "0              0     0     1     1       0          0      0        0      0   \n",
       "1              0     1     1     1       0          1      0        1      0   \n",
       "2              0     0     1     1       0          1      0        0      0   \n",
       "3              0     1     1     1       0          0      0        0      1   \n",
       "4              0     1     1     1       0          0      0        1      0   \n",
       "\n",
       "   Occlusion  Info  Blur  Pawpularity  \\\n",
       "0          0     0     1           50   \n",
       "1          0     1     0           25   \n",
       "2          0     0     0           27   \n",
       "3          1     0     0           19   \n",
       "4          0     0     0           27   \n",
       "\n",
       "                                                                              path  \n",
       "0  ../input/petfinder-pawpularity-score/train/ebaaa8e384b3d2f0a56c7ff7675c154c.jpg  \n",
       "1  ../input/petfinder-pawpularity-score/train/25e3bf4267c2dc3f579b779418221bb7.jpg  \n",
       "2  ../input/petfinder-pawpularity-score/train/6548166fb3fda22b67881176397f0223.jpg  \n",
       "3  ../input/petfinder-pawpularity-score/train/472c40116e1833555715e4774445ae5b.jpg  \n",
       "4  ../input/petfinder-pawpularity-score/train/7b77e1a6d93667b575d57db83facd860.jpg  "
      ]
     },
     "execution_count": 5,
     "metadata": {},
     "output_type": "execute_result"
    }
   ],
   "source": [
    "train_df['path'] = train_df['Id'].map(lambda x:str(dataset_path/'train'/x)+'.jpg')\n",
    "train_df = train_df.sample(frac=1).reset_index(drop=True)\n",
    "new_df['Pawpularity']=train_df['Pawpularity']/100\n",
    "new_df['Id']=train_df.Id\n",
    "train_df = train_df.drop(columns=['Id'])\n",
    "train_df.head()"
   ]
  },
  {
   "cell_type": "code",
   "execution_count": 6,
   "id": "251b0d71",
   "metadata": {
    "execution": {
     "iopub.execute_input": "2022-01-09T09:27:15.337480Z",
     "iopub.status.busy": "2022-01-09T09:27:15.336873Z",
     "iopub.status.idle": "2022-01-09T09:27:15.589013Z",
     "shell.execute_reply": "2022-01-09T09:27:15.588556Z",
     "shell.execute_reply.started": "2022-01-09T08:41:48.052736Z"
    },
    "papermill": {
     "duration": 0.276929,
     "end_time": "2022-01-09T09:27:15.589140",
     "exception": false,
     "start_time": "2022-01-09T09:27:15.312211",
     "status": "completed"
    },
    "tags": []
   },
   "outputs": [
    {
     "name": "stdout",
     "output_type": "stream",
     "text": [
      "The mean Pawpularity score is 38.03904358353511\n",
      "The median Pawpularity score is 33.0\n",
      "960 960\n"
     ]
    },
    {
     "data": {
      "image/png": "[encoded data removed]",
      "text/plain": [
       "<Figure size 720x360 with 1 Axes>"
      ]
     },
     "metadata": {
      "needs_background": "light"
     },
     "output_type": "display_data"
    }
   ],
   "source": [
    "len_df = len(train_df)\n",
    "train_df['Pawpularity'].hist(figsize = (10, 5))\n",
    "print(f\"The mean Pawpularity score is {train_df['Pawpularity'].mean()}\")\n",
    "print(f\"The median Pawpularity score is {train_df['Pawpularity'].median()}\")\n",
    "\n",
    "train_df['norm_score'] = train_df['Pawpularity']/100\n",
    "train_df['norm_score']\n",
    "im = Image.open(train_df['path'][1])\n",
    "train_df_copy=train_df.copy()\n",
    "width, height = im.size\n",
    "print(width,height)"
   ]
  },
  {
   "cell_type": "code",
   "execution_count": 7,
   "id": "3fc0f255",
   "metadata": {
    "execution": {
     "iopub.execute_input": "2022-01-09T09:27:15.635428Z",
     "iopub.status.busy": "2022-01-09T09:27:15.634653Z",
     "iopub.status.idle": "2022-01-09T09:27:25.251214Z",
     "shell.execute_reply": "2022-01-09T09:27:25.250647Z",
     "shell.execute_reply.started": "2022-01-09T08:41:48.307179Z"
    },
    "papermill": {
     "duration": 9.641391,
     "end_time": "2022-01-09T09:27:25.251376",
     "exception": false,
     "start_time": "2022-01-09T09:27:15.609985",
     "status": "completed"
    },
    "tags": []
   },
   "outputs": [],
   "source": [
    "if not os.path.exists('/root/.cache/torch/hub/checkpoints/'):\n",
    "    os.makedirs('/root/.cache/torch/hub/checkpoints/')\n",
    "!cp '../input/swin-transformer/swin_large_patch4_window7_224_22kto1k.pth' '/root/.cache/torch/hub/checkpoints/swin_large_patch4_window7_224_22kto1k.pth'"
   ]
  },
  {
   "cell_type": "code",
   "execution_count": 8,
   "id": "9a4341ab",
   "metadata": {
    "execution": {
     "iopub.execute_input": "2022-01-09T09:27:25.300888Z",
     "iopub.status.busy": "2022-01-09T09:27:25.299305Z",
     "iopub.status.idle": "2022-01-09T09:27:25.301533Z",
     "shell.execute_reply": "2022-01-09T09:27:25.301953Z",
     "shell.execute_reply.started": "2022-01-09T08:41:57.365454Z"
    },
    "papermill": {
     "duration": 0.029018,
     "end_time": "2022-01-09T09:27:25.302079",
     "exception": false,
     "start_time": "2022-01-09T09:27:25.273061",
     "status": "completed"
    },
    "tags": []
   },
   "outputs": [],
   "source": [
    "seed=999\n",
    "set_seed(seed, reproducible=True)\n",
    "torch.manual_seed(seed)\n",
    "torch.cuda.manual_seed(seed)\n",
    "torch.backends.cudnn.deterministic = True\n",
    "torch.use_deterministic_algorithms = True"
   ]
  },
  {
   "cell_type": "code",
   "execution_count": 9,
   "id": "4388fd75",
   "metadata": {
    "execution": {
     "iopub.execute_input": "2022-01-09T09:27:25.347030Z",
     "iopub.status.busy": "2022-01-09T09:27:25.346266Z",
     "iopub.status.idle": "2022-01-09T09:27:25.348291Z",
     "shell.execute_reply": "2022-01-09T09:27:25.348666Z",
     "shell.execute_reply.started": "2022-01-09T08:41:57.372903Z"
    },
    "papermill": {
     "duration": 0.02614,
     "end_time": "2022-01-09T09:27:25.348785",
     "exception": false,
     "start_time": "2022-01-09T09:27:25.322645",
     "status": "completed"
    },
    "tags": []
   },
   "outputs": [],
   "source": [
    "# num_bins = int(np.floor(1+(3.3)*(np.log2(len(train_df)))))\n",
    "# train_df['bins'] = pd.cut(train_df['norm_score'], bins=num_bins, labels=False)\n",
    "# train_df['bins'].hist()"
   ]
  },
  {
   "cell_type": "code",
   "execution_count": 10,
   "id": "4d5cd244",
   "metadata": {
    "execution": {
     "iopub.execute_input": "2022-01-09T09:27:25.394118Z",
     "iopub.status.busy": "2022-01-09T09:27:25.393374Z",
     "iopub.status.idle": "2022-01-09T09:27:25.395719Z",
     "shell.execute_reply": "2022-01-09T09:27:25.395333Z",
     "shell.execute_reply.started": "2022-01-09T08:41:57.384984Z"
    },
    "papermill": {
     "duration": 0.026599,
     "end_time": "2022-01-09T09:27:25.395820",
     "exception": false,
     "start_time": "2022-01-09T09:27:25.369221",
     "status": "completed"
    },
    "tags": []
   },
   "outputs": [],
   "source": [
    "# from sklearn.model_selection import KFold\n",
    "# from sklearn.model_selection import StratifiedKFold\n",
    "\n",
    "# train_df['fold'] = -1\n",
    "\n",
    "# N_FOLDS = 5\n",
    "# strat_kfold = StratifiedKFold(n_splits=N_FOLDS, random_state=seed, shuffle=True)\n",
    "# for i, (_, train_index) in enumerate(strat_kfold.split(train_df.index, train_df['bins'])):\n",
    "#     train_df.iloc[train_index, -1] = i\n",
    "    \n",
    "# train_df['fold'] = train_df['fold'].astype('int')\n",
    "# train_df.fold.value_counts().plot.bar()"
   ]
  },
  {
   "cell_type": "code",
   "execution_count": 11,
   "id": "91bf429d",
   "metadata": {
    "execution": {
     "iopub.execute_input": "2022-01-09T09:27:25.446226Z",
     "iopub.status.busy": "2022-01-09T09:27:25.445487Z",
     "iopub.status.idle": "2022-01-09T09:27:25.447813Z",
     "shell.execute_reply": "2022-01-09T09:27:25.447428Z",
     "shell.execute_reply.started": "2022-01-09T08:42:02.716926Z"
    },
    "papermill": {
     "duration": 0.031616,
     "end_time": "2022-01-09T09:27:25.447929",
     "exception": false,
     "start_time": "2022-01-09T09:27:25.416313",
     "status": "completed"
    },
    "tags": []
   },
   "outputs": [],
   "source": [
    "from sklearn.model_selection import KFold\n",
    "from sklearn.model_selection import StratifiedKFold\n",
    "def process_data(model_num,train_df):\n",
    "    num_bins = int(np.floor(1+(3.3)*(np.log2(len(train_df)))))\n",
    "    train_df['bins'] = pd.cut(train_df['norm_score'], bins=num_bins, labels=False)\n",
    "    train_df['bins'].hist()\n",
    "    train_df['fold'] = -1\n",
    "    N_FOLDS = model_folds[model_num]\n",
    "    strat_kfold = StratifiedKFold(n_splits=N_FOLDS, random_state=seed, shuffle=True)\n",
    "    for i, (_, train_index) in enumerate(strat_kfold.split(train_df.index, train_df['bins'])):\n",
    "        train_df.iloc[train_index, -1] = i\n",
    "    train_df['fold'] = train_df['fold'].astype('int')\n",
    "    test_df = pd.read_csv(dataset_path/'test.csv')\n",
    "    test_df['Pawpularity'] = [1]*len(test_df)\n",
    "    test_df['path'] = test_df['Id'].map(lambda x:str(dataset_path/'test'/x)+'.jpg')\n",
    "    test_df = test_df.drop(columns=['Id'])\n",
    "    test_df['norm_score'] = test_df['Pawpularity']/100\n",
    "    return [train_df,test_df]"
   ]
  },
  {
   "cell_type": "code",
   "execution_count": 12,
   "id": "507b5657",
   "metadata": {
    "execution": {
     "iopub.execute_input": "2022-01-09T09:27:25.494785Z",
     "iopub.status.busy": "2022-01-09T09:27:25.494284Z",
     "iopub.status.idle": "2022-01-09T09:27:25.754025Z",
     "shell.execute_reply": "2022-01-09T09:27:25.754715Z",
     "shell.execute_reply.started": "2022-01-09T08:42:04.065175Z"
    },
    "papermill": {
     "duration": 0.285053,
     "end_time": "2022-01-09T09:27:25.754869",
     "exception": false,
     "start_time": "2022-01-09T09:27:25.469816",
     "status": "completed"
    },
    "tags": []
   },
   "outputs": [
    {
     "data": {
      "image/png": "[encoded data removed]",
      "text/plain": [
       "<Figure size 432x288 with 1 Axes>"
      ]
     },
     "metadata": {
      "needs_background": "light"
     },
     "output_type": "display_data"
    }
   ],
   "source": [
    "train_df,test_df=process_data(0,train_df_copy)"
   ]
  },
  {
   "cell_type": "code",
   "execution_count": 13,
   "id": "d317747b",
   "metadata": {
    "execution": {
     "iopub.execute_input": "2022-01-09T09:27:25.803914Z",
     "iopub.status.busy": "2022-01-09T09:27:25.801692Z",
     "iopub.status.idle": "2022-01-09T09:27:25.805777Z",
     "shell.execute_reply": "2022-01-09T09:27:25.806223Z",
     "shell.execute_reply.started": "2022-01-09T08:51:28.485932Z"
    },
    "papermill": {
     "duration": 0.029722,
     "end_time": "2022-01-09T09:27:25.806345",
     "exception": false,
     "start_time": "2022-01-09T09:27:25.776623",
     "status": "completed"
    },
    "tags": []
   },
   "outputs": [],
   "source": [
    "def get_data(fold,vl):\n",
    "    train_df_f = train_df.copy()\n",
    "    train_df_f['is_valid'] = (train_df_f['fold'] == fold)\n",
    "    dls = ImageDataLoaders.from_df(train_df_f,\n",
    "                               valid_col='is_valid',\n",
    "                               seed=999,\n",
    "                               fn_col='path',\n",
    "                               label_col='norm_score',\n",
    "                               y_block=RegressionBlock,\n",
    "                               bs=batch_models[vl], \n",
    "                               num_workers=8, \n",
    "                               item_tfms=Resize(image_siz[vl]), \n",
    "                               batch_tfms=setup_aug_tfms([Brightness(), Contrast(), Hue(), Saturation()])) \n",
    "    \n",
    "    return dls"
   ]
  },
  {
   "cell_type": "code",
   "execution_count": 14,
   "id": "4875d5ff",
   "metadata": {
    "execution": {
     "iopub.execute_input": "2022-01-09T09:27:25.859285Z",
     "iopub.status.busy": "2022-01-09T09:27:25.858642Z",
     "iopub.status.idle": "2022-01-09T09:27:25.870404Z",
     "shell.execute_reply": "2022-01-09T09:27:25.869919Z",
     "shell.execute_reply.started": "2022-01-09T08:51:29.340994Z"
    },
    "papermill": {
     "duration": 0.043224,
     "end_time": "2022-01-09T09:27:25.870532",
     "exception": false,
     "start_time": "2022-01-09T09:27:25.827308",
     "status": "completed"
    },
    "tags": []
   },
   "outputs": [
    {
     "data": {
      "text/html": [
       "<div>\n",
       "<style scoped>\n",
       "    .dataframe tbody tr th:only-of-type {\n",
       "        vertical-align: middle;\n",
       "    }\n",
       "\n",
       "    .dataframe tbody tr th {\n",
       "        vertical-align: top;\n",
       "    }\n",
       "\n",
       "    .dataframe thead th {\n",
       "        text-align: right;\n",
       "    }\n",
       "</style>\n",
       "<table border=\"1\" class=\"dataframe\">\n",
       "  <thead>\n",
       "    <tr style=\"text-align: right;\">\n",
       "      <th></th>\n",
       "      <th>Subject Focus</th>\n",
       "      <th>Eyes</th>\n",
       "      <th>Face</th>\n",
       "      <th>Near</th>\n",
       "      <th>Action</th>\n",
       "      <th>Accessory</th>\n",
       "      <th>Group</th>\n",
       "      <th>Collage</th>\n",
       "      <th>Human</th>\n",
       "      <th>Occlusion</th>\n",
       "      <th>Info</th>\n",
       "      <th>Blur</th>\n",
       "      <th>Pawpularity</th>\n",
       "      <th>path</th>\n",
       "      <th>norm_score</th>\n",
       "      <th>bins</th>\n",
       "      <th>fold</th>\n",
       "    </tr>\n",
       "  </thead>\n",
       "  <tbody>\n",
       "    <tr>\n",
       "      <th>0</th>\n",
       "      <td>0</td>\n",
       "      <td>0</td>\n",
       "      <td>1</td>\n",
       "      <td>1</td>\n",
       "      <td>0</td>\n",
       "      <td>0</td>\n",
       "      <td>0</td>\n",
       "      <td>0</td>\n",
       "      <td>0</td>\n",
       "      <td>0</td>\n",
       "      <td>0</td>\n",
       "      <td>1</td>\n",
       "      <td>50</td>\n",
       "      <td>../input/petfinder-pawpularity-score/train/ebaaa8e384b3d2f0a56c7ff7675c154c.jpg</td>\n",
       "      <td>0.50</td>\n",
       "      <td>21</td>\n",
       "      <td>9</td>\n",
       "    </tr>\n",
       "    <tr>\n",
       "      <th>1</th>\n",
       "      <td>0</td>\n",
       "      <td>1</td>\n",
       "      <td>1</td>\n",
       "      <td>1</td>\n",
       "      <td>0</td>\n",
       "      <td>1</td>\n",
       "      <td>0</td>\n",
       "      <td>1</td>\n",
       "      <td>0</td>\n",
       "      <td>0</td>\n",
       "      <td>1</td>\n",
       "      <td>0</td>\n",
       "      <td>25</td>\n",
       "      <td>../input/petfinder-pawpularity-score/train/25e3bf4267c2dc3f579b779418221bb7.jpg</td>\n",
       "      <td>0.25</td>\n",
       "      <td>10</td>\n",
       "      <td>8</td>\n",
       "    </tr>\n",
       "    <tr>\n",
       "      <th>2</th>\n",
       "      <td>0</td>\n",
       "      <td>0</td>\n",
       "      <td>1</td>\n",
       "      <td>1</td>\n",
       "      <td>0</td>\n",
       "      <td>1</td>\n",
       "      <td>0</td>\n",
       "      <td>0</td>\n",
       "      <td>0</td>\n",
       "      <td>0</td>\n",
       "      <td>0</td>\n",
       "      <td>0</td>\n",
       "      <td>27</td>\n",
       "      <td>../input/petfinder-pawpularity-score/train/6548166fb3fda22b67881176397f0223.jpg</td>\n",
       "      <td>0.27</td>\n",
       "      <td>11</td>\n",
       "      <td>6</td>\n",
       "    </tr>\n",
       "    <tr>\n",
       "      <th>3</th>\n",
       "      <td>0</td>\n",
       "      <td>1</td>\n",
       "      <td>1</td>\n",
       "      <td>1</td>\n",
       "      <td>0</td>\n",
       "      <td>0</td>\n",
       "      <td>0</td>\n",
       "      <td>0</td>\n",
       "      <td>1</td>\n",
       "      <td>1</td>\n",
       "      <td>0</td>\n",
       "      <td>0</td>\n",
       "      <td>19</td>\n",
       "      <td>../input/petfinder-pawpularity-score/train/472c40116e1833555715e4774445ae5b.jpg</td>\n",
       "      <td>0.19</td>\n",
       "      <td>7</td>\n",
       "      <td>9</td>\n",
       "    </tr>\n",
       "    <tr>\n",
       "      <th>4</th>\n",
       "      <td>0</td>\n",
       "      <td>1</td>\n",
       "      <td>1</td>\n",
       "      <td>1</td>\n",
       "      <td>0</td>\n",
       "      <td>0</td>\n",
       "      <td>0</td>\n",
       "      <td>1</td>\n",
       "      <td>0</td>\n",
       "      <td>0</td>\n",
       "      <td>0</td>\n",
       "      <td>0</td>\n",
       "      <td>27</td>\n",
       "      <td>../input/petfinder-pawpularity-score/train/7b77e1a6d93667b575d57db83facd860.jpg</td>\n",
       "      <td>0.27</td>\n",
       "      <td>11</td>\n",
       "      <td>9</td>\n",
       "    </tr>\n",
       "    <tr>\n",
       "      <th>...</th>\n",
       "      <td>...</td>\n",
       "      <td>...</td>\n",
       "      <td>...</td>\n",
       "      <td>...</td>\n",
       "      <td>...</td>\n",
       "      <td>...</td>\n",
       "      <td>...</td>\n",
       "      <td>...</td>\n",
       "      <td>...</td>\n",
       "      <td>...</td>\n",
       "      <td>...</td>\n",
       "      <td>...</td>\n",
       "      <td>...</td>\n",
       "      <td>...</td>\n",
       "      <td>...</td>\n",
       "      <td>...</td>\n",
       "      <td>...</td>\n",
       "    </tr>\n",
       "    <tr>\n",
       "      <th>9907</th>\n",
       "      <td>0</td>\n",
       "      <td>1</td>\n",
       "      <td>1</td>\n",
       "      <td>1</td>\n",
       "      <td>0</td>\n",
       "      <td>0</td>\n",
       "      <td>0</td>\n",
       "      <td>0</td>\n",
       "      <td>0</td>\n",
       "      <td>0</td>\n",
       "      <td>0</td>\n",
       "      <td>0</td>\n",
       "      <td>26</td>\n",
       "      <td>../input/petfinder-pawpularity-score/train/d9a59cf5f9b386ca222cdc348335c143.jpg</td>\n",
       "      <td>0.26</td>\n",
       "      <td>11</td>\n",
       "      <td>8</td>\n",
       "    </tr>\n",
       "    <tr>\n",
       "      <th>9908</th>\n",
       "      <td>0</td>\n",
       "      <td>1</td>\n",
       "      <td>1</td>\n",
       "      <td>1</td>\n",
       "      <td>0</td>\n",
       "      <td>0</td>\n",
       "      <td>0</td>\n",
       "      <td>0</td>\n",
       "      <td>0</td>\n",
       "      <td>0</td>\n",
       "      <td>0</td>\n",
       "      <td>0</td>\n",
       "      <td>65</td>\n",
       "      <td>../input/petfinder-pawpularity-score/train/c3ae20e7de8c74a62a37166bb57f4e2e.jpg</td>\n",
       "      <td>0.65</td>\n",
       "      <td>28</td>\n",
       "      <td>8</td>\n",
       "    </tr>\n",
       "    <tr>\n",
       "      <th>9909</th>\n",
       "      <td>0</td>\n",
       "      <td>1</td>\n",
       "      <td>1</td>\n",
       "      <td>0</td>\n",
       "      <td>0</td>\n",
       "      <td>0</td>\n",
       "      <td>0</td>\n",
       "      <td>0</td>\n",
       "      <td>1</td>\n",
       "      <td>1</td>\n",
       "      <td>0</td>\n",
       "      <td>0</td>\n",
       "      <td>38</td>\n",
       "      <td>../input/petfinder-pawpularity-score/train/d9ea120ce5d5213ba2dc31b23de439e6.jpg</td>\n",
       "      <td>0.38</td>\n",
       "      <td>16</td>\n",
       "      <td>8</td>\n",
       "    </tr>\n",
       "    <tr>\n",
       "      <th>9910</th>\n",
       "      <td>0</td>\n",
       "      <td>1</td>\n",
       "      <td>1</td>\n",
       "      <td>1</td>\n",
       "      <td>0</td>\n",
       "      <td>0</td>\n",
       "      <td>0</td>\n",
       "      <td>0</td>\n",
       "      <td>0</td>\n",
       "      <td>0</td>\n",
       "      <td>0</td>\n",
       "      <td>0</td>\n",
       "      <td>44</td>\n",
       "      <td>../input/petfinder-pawpularity-score/train/9714de78407cc26d1ecbdcae534e1cee.jpg</td>\n",
       "      <td>0.44</td>\n",
       "      <td>19</td>\n",
       "      <td>6</td>\n",
       "    </tr>\n",
       "    <tr>\n",
       "      <th>9911</th>\n",
       "      <td>0</td>\n",
       "      <td>1</td>\n",
       "      <td>1</td>\n",
       "      <td>1</td>\n",
       "      <td>0</td>\n",
       "      <td>0</td>\n",
       "      <td>0</td>\n",
       "      <td>0</td>\n",
       "      <td>0</td>\n",
       "      <td>0</td>\n",
       "      <td>0</td>\n",
       "      <td>0</td>\n",
       "      <td>62</td>\n",
       "      <td>../input/petfinder-pawpularity-score/train/0cc2dabca057706d0d6b6ad1d8bf4ade.jpg</td>\n",
       "      <td>0.62</td>\n",
       "      <td>27</td>\n",
       "      <td>3</td>\n",
       "    </tr>\n",
       "  </tbody>\n",
       "</table>\n",
       "<p>9912 rows × 17 columns</p>\n",
       "</div>"
      ],
      "text/plain": [
       "      Subject Focus  Eyes  Face  Near  Action  Accessory  Group  Collage  \\\n",
       "0                 0     0     1     1       0          0      0        0   \n",
       "1                 0     1     1     1       0          1      0        1   \n",
       "2                 0     0     1     1       0          1      0        0   \n",
       "3                 0     1     1     1       0          0      0        0   \n",
       "4                 0     1     1     1       0          0      0        1   \n",
       "...             ...   ...   ...   ...     ...        ...    ...      ...   \n",
       "9907              0     1     1     1       0          0      0        0   \n",
       "9908              0     1     1     1       0          0      0        0   \n",
       "9909              0     1     1     0       0          0      0        0   \n",
       "9910              0     1     1     1       0          0      0        0   \n",
       "9911              0     1     1     1       0          0      0        0   \n",
       "\n",
       "      Human  Occlusion  Info  Blur  Pawpularity  \\\n",
       "0         0          0     0     1           50   \n",
       "1         0          0     1     0           25   \n",
       "2         0          0     0     0           27   \n",
       "3         1          1     0     0           19   \n",
       "4         0          0     0     0           27   \n",
       "...     ...        ...   ...   ...          ...   \n",
       "9907      0          0     0     0           26   \n",
       "9908      0          0     0     0           65   \n",
       "9909      1          1     0     0           38   \n",
       "9910      0          0     0     0           44   \n",
       "9911      0          0     0     0           62   \n",
       "\n",
       "                                                                                 path  \\\n",
       "0     ../input/petfinder-pawpularity-score/train/ebaaa8e384b3d2f0a56c7ff7675c154c.jpg   \n",
       "1     ../input/petfinder-pawpularity-score/train/25e3bf4267c2dc3f579b779418221bb7.jpg   \n",
       "2     ../input/petfinder-pawpularity-score/train/6548166fb3fda22b67881176397f0223.jpg   \n",
       "3     ../input/petfinder-pawpularity-score/train/472c40116e1833555715e4774445ae5b.jpg   \n",
       "4     ../input/petfinder-pawpularity-score/train/7b77e1a6d93667b575d57db83facd860.jpg   \n",
       "...                                                                               ...   \n",
       "9907  ../input/petfinder-pawpularity-score/train/d9a59cf5f9b386ca222cdc348335c143.jpg   \n",
       "9908  ../input/petfinder-pawpularity-score/train/c3ae20e7de8c74a62a37166bb57f4e2e.jpg   \n",
       "9909  ../input/petfinder-pawpularity-score/train/d9ea120ce5d5213ba2dc31b23de439e6.jpg   \n",
       "9910  ../input/petfinder-pawpularity-score/train/9714de78407cc26d1ecbdcae534e1cee.jpg   \n",
       "9911  ../input/petfinder-pawpularity-score/train/0cc2dabca057706d0d6b6ad1d8bf4ade.jpg   \n",
       "\n",
       "      norm_score  bins  fold  \n",
       "0           0.50    21     9  \n",
       "1           0.25    10     8  \n",
       "2           0.27    11     6  \n",
       "3           0.19     7     9  \n",
       "4           0.27    11     9  \n",
       "...          ...   ...   ...  \n",
       "9907        0.26    11     8  \n",
       "9908        0.65    28     8  \n",
       "9909        0.38    16     8  \n",
       "9910        0.44    19     6  \n",
       "9911        0.62    27     3  \n",
       "\n",
       "[9912 rows x 17 columns]"
      ]
     },
     "execution_count": 14,
     "metadata": {},
     "output_type": "execute_result"
    }
   ],
   "source": [
    "train_df"
   ]
  },
  {
   "cell_type": "code",
   "execution_count": 15,
   "id": "971851d6",
   "metadata": {
    "execution": {
     "iopub.execute_input": "2022-01-09T09:27:25.920223Z",
     "iopub.status.busy": "2022-01-09T09:27:25.919391Z",
     "iopub.status.idle": "2022-01-09T09:27:30.504248Z",
     "shell.execute_reply": "2022-01-09T09:27:30.504958Z",
     "shell.execute_reply.started": "2022-01-09T08:51:30.257494Z"
    },
    "papermill": {
     "duration": 4.611549,
     "end_time": "2022-01-09T09:27:30.505173",
     "exception": false,
     "start_time": "2022-01-09T09:27:25.893624",
     "status": "completed"
    },
    "tags": []
   },
   "outputs": [
    {
     "name": "stdout",
     "output_type": "stream",
     "text": [
      "\n"
     ]
    }
   ],
   "source": [
    "the_data = get_data(0,0)\n",
    "print()\n",
    "assert (len(the_data.train) + len(the_data.valid)) == (len(train_df)//batch_models[0])"
   ]
  },
  {
   "cell_type": "code",
   "execution_count": 16,
   "id": "2c99f3da",
   "metadata": {
    "execution": {
     "iopub.execute_input": "2022-01-09T09:27:30.556675Z",
     "iopub.status.busy": "2022-01-09T09:27:30.555864Z",
     "iopub.status.idle": "2022-01-09T09:27:30.558300Z",
     "shell.execute_reply": "2022-01-09T09:27:30.557875Z",
     "shell.execute_reply.started": "2022-01-09T08:51:44.440254Z"
    },
    "papermill": {
     "duration": 0.029578,
     "end_time": "2022-01-09T09:27:30.558406",
     "exception": false,
     "start_time": "2022-01-09T09:27:30.528828",
     "status": "completed"
    },
    "tags": []
   },
   "outputs": [],
   "source": [
    "def petfinder_rmse(input,target):\n",
    "    return 100*torch.sqrt(F.mse_loss(F.sigmoid(input.flatten()), target))"
   ]
  },
  {
   "cell_type": "code",
   "execution_count": 17,
   "id": "6229f635",
   "metadata": {
    "execution": {
     "iopub.execute_input": "2022-01-09T09:27:30.607055Z",
     "iopub.status.busy": "2022-01-09T09:27:30.606537Z",
     "iopub.status.idle": "2022-01-09T09:27:30.622031Z",
     "shell.execute_reply": "2022-01-09T09:27:30.621596Z",
     "shell.execute_reply.started": "2022-01-09T08:51:44.862826Z"
    },
    "papermill": {
     "duration": 0.04178,
     "end_time": "2022-01-09T09:27:30.622141",
     "exception": false,
     "start_time": "2022-01-09T09:27:30.580361",
     "status": "completed"
    },
    "tags": []
   },
   "outputs": [],
   "source": [
    "from fastai.vision.all import *\n",
    "mixup = MixUp(1.)"
   ]
  },
  {
   "cell_type": "code",
   "execution_count": 18,
   "id": "bd367c6e",
   "metadata": {
    "execution": {
     "iopub.execute_input": "2022-01-09T09:27:30.671217Z",
     "iopub.status.busy": "2022-01-09T09:27:30.670458Z",
     "iopub.status.idle": "2022-01-09T09:27:30.672487Z",
     "shell.execute_reply": "2022-01-09T09:27:30.673414Z",
     "shell.execute_reply.started": "2022-01-09T08:51:45.301112Z"
    },
    "papermill": {
     "duration": 0.029388,
     "end_time": "2022-01-09T09:27:30.673768",
     "exception": false,
     "start_time": "2022-01-09T09:27:30.644380",
     "status": "completed"
    },
    "tags": []
   },
   "outputs": [],
   "source": [
    "def get_learner(fold_num,model,j):\n",
    "    data = get_data(fold_num,j)\n",
    "    learn = Learner(data, model, loss_func=BCEWithLogitsLossFlat(),cbs=mixup,metrics=petfinder_rmse).to_fp16()\n",
    "    return learn"
   ]
  },
  {
   "cell_type": "code",
   "execution_count": 19,
   "id": "35289386",
   "metadata": {
    "execution": {
     "iopub.execute_input": "2022-01-09T09:27:30.725610Z",
     "iopub.status.busy": "2022-01-09T09:27:30.724845Z",
     "iopub.status.idle": "2022-01-09T09:27:30.733107Z",
     "shell.execute_reply": "2022-01-09T09:27:30.732626Z",
     "shell.execute_reply.started": "2022-01-09T08:51:45.921090Z"
    },
    "papermill": {
     "duration": 0.03519,
     "end_time": "2022-01-09T09:27:30.733213",
     "exception": false,
     "start_time": "2022-01-09T09:27:30.698023",
     "status": "completed"
    },
    "tags": []
   },
   "outputs": [],
   "source": [
    "test_df = pd.read_csv(dataset_path/'test.csv')\n",
    "test_df.head()\n",
    "test_df['Pawpularity'] = [1]*len(test_df)\n",
    "test_df['path'] = test_df['Id'].map(lambda x:str(dataset_path/'test'/x)+'.jpg')\n",
    "test_df = test_df.drop(columns=['Id'])\n",
    "test_df['norm_score'] = test_df['Pawpularity']/100"
   ]
  },
  {
   "cell_type": "code",
   "execution_count": 20,
   "id": "46960ec5",
   "metadata": {
    "execution": {
     "iopub.execute_input": "2022-01-09T09:27:30.780533Z",
     "iopub.status.busy": "2022-01-09T09:27:30.780046Z",
     "iopub.status.idle": "2022-01-09T09:27:30.783767Z",
     "shell.execute_reply": "2022-01-09T09:27:30.783270Z",
     "shell.execute_reply.started": "2022-01-09T08:54:21.501182Z"
    },
    "papermill": {
     "duration": 0.028684,
     "end_time": "2022-01-09T09:27:30.783864",
     "exception": false,
     "start_time": "2022-01-09T09:27:30.755180",
     "status": "completed"
    },
    "tags": []
   },
   "outputs": [],
   "source": [
    "import gc"
   ]
  },
  {
   "cell_type": "code",
   "execution_count": 21,
   "id": "1fe12e71",
   "metadata": {
    "execution": {
     "iopub.execute_input": "2022-01-09T09:27:30.836166Z",
     "iopub.status.busy": "2022-01-09T09:27:30.835620Z",
     "iopub.status.idle": "2022-01-09T09:31:20.302180Z",
     "shell.execute_reply": "2022-01-09T09:31:20.301570Z",
     "shell.execute_reply.started": "2022-01-09T08:54:21.894517Z"
    },
    "papermill": {
     "duration": 229.496715,
     "end_time": "2022-01-09T09:31:20.302334",
     "exception": false,
     "start_time": "2022-01-09T09:27:30.805619",
     "status": "completed"
    },
    "tags": []
   },
   "outputs": [
    {
     "name": "stdout",
     "output_type": "stream",
     "text": [
      "Fold 0 of model swin_ results\n"
     ]
    },
    {
     "data": {
      "text/html": [
       "\n",
       "    <div>\n",
       "        <style>\n",
       "            /* Turns off some styling */\n",
       "            progress {\n",
       "                /* gets rid of default border in Firefox and Opera. */\n",
       "                border: none;\n",
       "                /* Needs to be in here for Safari polyfill so background images work as expected. */\n",
       "                background-size: auto;\n",
       "            }\n",
       "            .progress-bar-interrupted, .progress-bar-interrupted::-webkit-progress-bar {\n",
       "                background: #F44336;\n",
       "            }\n",
       "        </style>\n",
       "      <progress value='0' class='' max='1' style='width:300px; height:20px; vertical-align: middle;'></progress>\n",
       "      \n",
       "    </div>\n",
       "    \n"
      ],
      "text/plain": [
       "<IPython.core.display.HTML object>"
      ]
     },
     "metadata": {},
     "output_type": "display_data"
    },
    {
     "data": {
      "text/html": [],
      "text/plain": [
       "<IPython.core.display.HTML object>"
      ]
     },
     "metadata": {},
     "output_type": "display_data"
    },
    {
     "name": "stdout",
     "output_type": "stream",
     "text": [
      "Fold 1 of model swin_ results\n"
     ]
    },
    {
     "data": {
      "text/html": [
       "\n",
       "    <div>\n",
       "        <style>\n",
       "            /* Turns off some styling */\n",
       "            progress {\n",
       "                /* gets rid of default border in Firefox and Opera. */\n",
       "                border: none;\n",
       "                /* Needs to be in here for Safari polyfill so background images work as expected. */\n",
       "                background-size: auto;\n",
       "            }\n",
       "            .progress-bar-interrupted, .progress-bar-interrupted::-webkit-progress-bar {\n",
       "                background: #F44336;\n",
       "            }\n",
       "        </style>\n",
       "      <progress value='0' class='' max='1' style='width:300px; height:20px; vertical-align: middle;'></progress>\n",
       "      \n",
       "    </div>\n",
       "    \n"
      ],
      "text/plain": [
       "<IPython.core.display.HTML object>"
      ]
     },
     "metadata": {},
     "output_type": "display_data"
    },
    {
     "data": {
      "text/html": [],
      "text/plain": [
       "<IPython.core.display.HTML object>"
      ]
     },
     "metadata": {},
     "output_type": "display_data"
    },
    {
     "name": "stdout",
     "output_type": "stream",
     "text": [
      "Fold 2 of model swin_ results\n"
     ]
    },
    {
     "data": {
      "text/html": [
       "\n",
       "    <div>\n",
       "        <style>\n",
       "            /* Turns off some styling */\n",
       "            progress {\n",
       "                /* gets rid of default border in Firefox and Opera. */\n",
       "                border: none;\n",
       "                /* Needs to be in here for Safari polyfill so background images work as expected. */\n",
       "                background-size: auto;\n",
       "            }\n",
       "            .progress-bar-interrupted, .progress-bar-interrupted::-webkit-progress-bar {\n",
       "                background: #F44336;\n",
       "            }\n",
       "        </style>\n",
       "      <progress value='0' class='' max='1' style='width:300px; height:20px; vertical-align: middle;'></progress>\n",
       "      \n",
       "    </div>\n",
       "    \n"
      ],
      "text/plain": [
       "<IPython.core.display.HTML object>"
      ]
     },
     "metadata": {},
     "output_type": "display_data"
    },
    {
     "data": {
      "text/html": [],
      "text/plain": [
       "<IPython.core.display.HTML object>"
      ]
     },
     "metadata": {},
     "output_type": "display_data"
    },
    {
     "name": "stdout",
     "output_type": "stream",
     "text": [
      "Fold 3 of model swin_ results\n"
     ]
    },
    {
     "data": {
      "text/html": [
       "\n",
       "    <div>\n",
       "        <style>\n",
       "            /* Turns off some styling */\n",
       "            progress {\n",
       "                /* gets rid of default border in Firefox and Opera. */\n",
       "                border: none;\n",
       "                /* Needs to be in here for Safari polyfill so background images work as expected. */\n",
       "                background-size: auto;\n",
       "            }\n",
       "            .progress-bar-interrupted, .progress-bar-interrupted::-webkit-progress-bar {\n",
       "                background: #F44336;\n",
       "            }\n",
       "        </style>\n",
       "      <progress value='0' class='' max='1' style='width:300px; height:20px; vertical-align: middle;'></progress>\n",
       "      \n",
       "    </div>\n",
       "    \n"
      ],
      "text/plain": [
       "<IPython.core.display.HTML object>"
      ]
     },
     "metadata": {},
     "output_type": "display_data"
    },
    {
     "data": {
      "text/html": [],
      "text/plain": [
       "<IPython.core.display.HTML object>"
      ]
     },
     "metadata": {},
     "output_type": "display_data"
    },
    {
     "name": "stdout",
     "output_type": "stream",
     "text": [
      "Fold 4 of model swin_ results\n"
     ]
    },
    {
     "data": {
      "text/html": [
       "\n",
       "    <div>\n",
       "        <style>\n",
       "            /* Turns off some styling */\n",
       "            progress {\n",
       "                /* gets rid of default border in Firefox and Opera. */\n",
       "                border: none;\n",
       "                /* Needs to be in here for Safari polyfill so background images work as expected. */\n",
       "                background-size: auto;\n",
       "            }\n",
       "            .progress-bar-interrupted, .progress-bar-interrupted::-webkit-progress-bar {\n",
       "                background: #F44336;\n",
       "            }\n",
       "        </style>\n",
       "      <progress value='0' class='' max='1' style='width:300px; height:20px; vertical-align: middle;'></progress>\n",
       "      \n",
       "    </div>\n",
       "    \n"
      ],
      "text/plain": [
       "<IPython.core.display.HTML object>"
      ]
     },
     "metadata": {},
     "output_type": "display_data"
    },
    {
     "data": {
      "text/html": [],
      "text/plain": [
       "<IPython.core.display.HTML object>"
      ]
     },
     "metadata": {},
     "output_type": "display_data"
    },
    {
     "name": "stdout",
     "output_type": "stream",
     "text": [
      "Fold 5 of model swin_ results\n"
     ]
    },
    {
     "data": {
      "text/html": [
       "\n",
       "    <div>\n",
       "        <style>\n",
       "            /* Turns off some styling */\n",
       "            progress {\n",
       "                /* gets rid of default border in Firefox and Opera. */\n",
       "                border: none;\n",
       "                /* Needs to be in here for Safari polyfill so background images work as expected. */\n",
       "                background-size: auto;\n",
       "            }\n",
       "            .progress-bar-interrupted, .progress-bar-interrupted::-webkit-progress-bar {\n",
       "                background: #F44336;\n",
       "            }\n",
       "        </style>\n",
       "      <progress value='0' class='' max='1' style='width:300px; height:20px; vertical-align: middle;'></progress>\n",
       "      \n",
       "    </div>\n",
       "    \n"
      ],
      "text/plain": [
       "<IPython.core.display.HTML object>"
      ]
     },
     "metadata": {},
     "output_type": "display_data"
    },
    {
     "data": {
      "text/html": [],
      "text/plain": [
       "<IPython.core.display.HTML object>"
      ]
     },
     "metadata": {},
     "output_type": "display_data"
    },
    {
     "name": "stdout",
     "output_type": "stream",
     "text": [
      "Fold 6 of model swin_ results\n"
     ]
    },
    {
     "data": {
      "text/html": [
       "\n",
       "    <div>\n",
       "        <style>\n",
       "            /* Turns off some styling */\n",
       "            progress {\n",
       "                /* gets rid of default border in Firefox and Opera. */\n",
       "                border: none;\n",
       "                /* Needs to be in here for Safari polyfill so background images work as expected. */\n",
       "                background-size: auto;\n",
       "            }\n",
       "            .progress-bar-interrupted, .progress-bar-interrupted::-webkit-progress-bar {\n",
       "                background: #F44336;\n",
       "            }\n",
       "        </style>\n",
       "      <progress value='0' class='' max='1' style='width:300px; height:20px; vertical-align: middle;'></progress>\n",
       "      \n",
       "    </div>\n",
       "    \n"
      ],
      "text/plain": [
       "<IPython.core.display.HTML object>"
      ]
     },
     "metadata": {},
     "output_type": "display_data"
    },
    {
     "data": {
      "text/html": [],
      "text/plain": [
       "<IPython.core.display.HTML object>"
      ]
     },
     "metadata": {},
     "output_type": "display_data"
    },
    {
     "name": "stdout",
     "output_type": "stream",
     "text": [
      "Fold 7 of model swin_ results\n"
     ]
    },
    {
     "data": {
      "text/html": [
       "\n",
       "    <div>\n",
       "        <style>\n",
       "            /* Turns off some styling */\n",
       "            progress {\n",
       "                /* gets rid of default border in Firefox and Opera. */\n",
       "                border: none;\n",
       "                /* Needs to be in here for Safari polyfill so background images work as expected. */\n",
       "                background-size: auto;\n",
       "            }\n",
       "            .progress-bar-interrupted, .progress-bar-interrupted::-webkit-progress-bar {\n",
       "                background: #F44336;\n",
       "            }\n",
       "        </style>\n",
       "      <progress value='0' class='' max='1' style='width:300px; height:20px; vertical-align: middle;'></progress>\n",
       "      \n",
       "    </div>\n",
       "    \n"
      ],
      "text/plain": [
       "<IPython.core.display.HTML object>"
      ]
     },
     "metadata": {},
     "output_type": "display_data"
    },
    {
     "data": {
      "text/html": [],
      "text/plain": [
       "<IPython.core.display.HTML object>"
      ]
     },
     "metadata": {},
     "output_type": "display_data"
    },
    {
     "name": "stdout",
     "output_type": "stream",
     "text": [
      "Fold 8 of model swin_ results\n"
     ]
    },
    {
     "data": {
      "text/html": [
       "\n",
       "    <div>\n",
       "        <style>\n",
       "            /* Turns off some styling */\n",
       "            progress {\n",
       "                /* gets rid of default border in Firefox and Opera. */\n",
       "                border: none;\n",
       "                /* Needs to be in here for Safari polyfill so background images work as expected. */\n",
       "                background-size: auto;\n",
       "            }\n",
       "            .progress-bar-interrupted, .progress-bar-interrupted::-webkit-progress-bar {\n",
       "                background: #F44336;\n",
       "            }\n",
       "        </style>\n",
       "      <progress value='0' class='' max='1' style='width:300px; height:20px; vertical-align: middle;'></progress>\n",
       "      \n",
       "    </div>\n",
       "    \n"
      ],
      "text/plain": [
       "<IPython.core.display.HTML object>"
      ]
     },
     "metadata": {},
     "output_type": "display_data"
    },
    {
     "data": {
      "text/html": [],
      "text/plain": [
       "<IPython.core.display.HTML object>"
      ]
     },
     "metadata": {},
     "output_type": "display_data"
    },
    {
     "name": "stdout",
     "output_type": "stream",
     "text": [
      "Fold 9 of model swin_ results\n"
     ]
    },
    {
     "data": {
      "text/html": [
       "\n",
       "    <div>\n",
       "        <style>\n",
       "            /* Turns off some styling */\n",
       "            progress {\n",
       "                /* gets rid of default border in Firefox and Opera. */\n",
       "                border: none;\n",
       "                /* Needs to be in here for Safari polyfill so background images work as expected. */\n",
       "                background-size: auto;\n",
       "            }\n",
       "            .progress-bar-interrupted, .progress-bar-interrupted::-webkit-progress-bar {\n",
       "                background: #F44336;\n",
       "            }\n",
       "        </style>\n",
       "      <progress value='0' class='' max='1' style='width:300px; height:20px; vertical-align: middle;'></progress>\n",
       "      \n",
       "    </div>\n",
       "    \n"
      ],
      "text/plain": [
       "<IPython.core.display.HTML object>"
      ]
     },
     "metadata": {},
     "output_type": "display_data"
    },
    {
     "data": {
      "text/html": [],
      "text/plain": [
       "<IPython.core.display.HTML object>"
      ]
     },
     "metadata": {},
     "output_type": "display_data"
    },
    {
     "name": "stdout",
     "output_type": "stream",
     "text": [
      "Fold 0 of model swin_384_ results\n"
     ]
    },
    {
     "data": {
      "text/html": [
       "\n",
       "    <div>\n",
       "        <style>\n",
       "            /* Turns off some styling */\n",
       "            progress {\n",
       "                /* gets rid of default border in Firefox and Opera. */\n",
       "                border: none;\n",
       "                /* Needs to be in here for Safari polyfill so background images work as expected. */\n",
       "                background-size: auto;\n",
       "            }\n",
       "            .progress-bar-interrupted, .progress-bar-interrupted::-webkit-progress-bar {\n",
       "                background: #F44336;\n",
       "            }\n",
       "        </style>\n",
       "      <progress value='0' class='' max='1' style='width:300px; height:20px; vertical-align: middle;'></progress>\n",
       "      \n",
       "    </div>\n",
       "    \n"
      ],
      "text/plain": [
       "<IPython.core.display.HTML object>"
      ]
     },
     "metadata": {},
     "output_type": "display_data"
    },
    {
     "data": {
      "text/html": [],
      "text/plain": [
       "<IPython.core.display.HTML object>"
      ]
     },
     "metadata": {},
     "output_type": "display_data"
    },
    {
     "name": "stdout",
     "output_type": "stream",
     "text": [
      "Fold 1 of model swin_384_ results\n"
     ]
    },
    {
     "data": {
      "text/html": [
       "\n",
       "    <div>\n",
       "        <style>\n",
       "            /* Turns off some styling */\n",
       "            progress {\n",
       "                /* gets rid of default border in Firefox and Opera. */\n",
       "                border: none;\n",
       "                /* Needs to be in here for Safari polyfill so background images work as expected. */\n",
       "                background-size: auto;\n",
       "            }\n",
       "            .progress-bar-interrupted, .progress-bar-interrupted::-webkit-progress-bar {\n",
       "                background: #F44336;\n",
       "            }\n",
       "        </style>\n",
       "      <progress value='0' class='' max='1' style='width:300px; height:20px; vertical-align: middle;'></progress>\n",
       "      \n",
       "    </div>\n",
       "    \n"
      ],
      "text/plain": [
       "<IPython.core.display.HTML object>"
      ]
     },
     "metadata": {},
     "output_type": "display_data"
    },
    {
     "data": {
      "text/html": [],
      "text/plain": [
       "<IPython.core.display.HTML object>"
      ]
     },
     "metadata": {},
     "output_type": "display_data"
    },
    {
     "name": "stdout",
     "output_type": "stream",
     "text": [
      "Fold 2 of model swin_384_ results\n"
     ]
    },
    {
     "data": {
      "text/html": [
       "\n",
       "    <div>\n",
       "        <style>\n",
       "            /* Turns off some styling */\n",
       "            progress {\n",
       "                /* gets rid of default border in Firefox and Opera. */\n",
       "                border: none;\n",
       "                /* Needs to be in here for Safari polyfill so background images work as expected. */\n",
       "                background-size: auto;\n",
       "            }\n",
       "            .progress-bar-interrupted, .progress-bar-interrupted::-webkit-progress-bar {\n",
       "                background: #F44336;\n",
       "            }\n",
       "        </style>\n",
       "      <progress value='0' class='' max='1' style='width:300px; height:20px; vertical-align: middle;'></progress>\n",
       "      \n",
       "    </div>\n",
       "    \n"
      ],
      "text/plain": [
       "<IPython.core.display.HTML object>"
      ]
     },
     "metadata": {},
     "output_type": "display_data"
    },
    {
     "data": {
      "text/html": [],
      "text/plain": [
       "<IPython.core.display.HTML object>"
      ]
     },
     "metadata": {},
     "output_type": "display_data"
    },
    {
     "name": "stdout",
     "output_type": "stream",
     "text": [
      "Fold 3 of model swin_384_ results\n"
     ]
    },
    {
     "data": {
      "text/html": [
       "\n",
       "    <div>\n",
       "        <style>\n",
       "            /* Turns off some styling */\n",
       "            progress {\n",
       "                /* gets rid of default border in Firefox and Opera. */\n",
       "                border: none;\n",
       "                /* Needs to be in here for Safari polyfill so background images work as expected. */\n",
       "                background-size: auto;\n",
       "            }\n",
       "            .progress-bar-interrupted, .progress-bar-interrupted::-webkit-progress-bar {\n",
       "                background: #F44336;\n",
       "            }\n",
       "        </style>\n",
       "      <progress value='0' class='' max='1' style='width:300px; height:20px; vertical-align: middle;'></progress>\n",
       "      \n",
       "    </div>\n",
       "    \n"
      ],
      "text/plain": [
       "<IPython.core.display.HTML object>"
      ]
     },
     "metadata": {},
     "output_type": "display_data"
    },
    {
     "data": {
      "text/html": [],
      "text/plain": [
       "<IPython.core.display.HTML object>"
      ]
     },
     "metadata": {},
     "output_type": "display_data"
    },
    {
     "name": "stdout",
     "output_type": "stream",
     "text": [
      "Fold 4 of model swin_384_ results\n"
     ]
    },
    {
     "data": {
      "text/html": [
       "\n",
       "    <div>\n",
       "        <style>\n",
       "            /* Turns off some styling */\n",
       "            progress {\n",
       "                /* gets rid of default border in Firefox and Opera. */\n",
       "                border: none;\n",
       "                /* Needs to be in here for Safari polyfill so background images work as expected. */\n",
       "                background-size: auto;\n",
       "            }\n",
       "            .progress-bar-interrupted, .progress-bar-interrupted::-webkit-progress-bar {\n",
       "                background: #F44336;\n",
       "            }\n",
       "        </style>\n",
       "      <progress value='0' class='' max='1' style='width:300px; height:20px; vertical-align: middle;'></progress>\n",
       "      \n",
       "    </div>\n",
       "    \n"
      ],
      "text/plain": [
       "<IPython.core.display.HTML object>"
      ]
     },
     "metadata": {},
     "output_type": "display_data"
    },
    {
     "data": {
      "text/html": [],
      "text/plain": [
       "<IPython.core.display.HTML object>"
      ]
     },
     "metadata": {},
     "output_type": "display_data"
    },
    {
     "name": "stdout",
     "output_type": "stream",
     "text": [
      "Fold 5 of model swin_384_ results\n"
     ]
    },
    {
     "data": {
      "text/html": [
       "\n",
       "    <div>\n",
       "        <style>\n",
       "            /* Turns off some styling */\n",
       "            progress {\n",
       "                /* gets rid of default border in Firefox and Opera. */\n",
       "                border: none;\n",
       "                /* Needs to be in here for Safari polyfill so background images work as expected. */\n",
       "                background-size: auto;\n",
       "            }\n",
       "            .progress-bar-interrupted, .progress-bar-interrupted::-webkit-progress-bar {\n",
       "                background: #F44336;\n",
       "            }\n",
       "        </style>\n",
       "      <progress value='0' class='' max='1' style='width:300px; height:20px; vertical-align: middle;'></progress>\n",
       "      \n",
       "    </div>\n",
       "    \n"
      ],
      "text/plain": [
       "<IPython.core.display.HTML object>"
      ]
     },
     "metadata": {},
     "output_type": "display_data"
    },
    {
     "data": {
      "text/html": [],
      "text/plain": [
       "<IPython.core.display.HTML object>"
      ]
     },
     "metadata": {},
     "output_type": "display_data"
    },
    {
     "name": "stdout",
     "output_type": "stream",
     "text": [
      "Fold 6 of model swin_384_ results\n"
     ]
    },
    {
     "data": {
      "text/html": [
       "\n",
       "    <div>\n",
       "        <style>\n",
       "            /* Turns off some styling */\n",
       "            progress {\n",
       "                /* gets rid of default border in Firefox and Opera. */\n",
       "                border: none;\n",
       "                /* Needs to be in here for Safari polyfill so background images work as expected. */\n",
       "                background-size: auto;\n",
       "            }\n",
       "            .progress-bar-interrupted, .progress-bar-interrupted::-webkit-progress-bar {\n",
       "                background: #F44336;\n",
       "            }\n",
       "        </style>\n",
       "      <progress value='0' class='' max='1' style='width:300px; height:20px; vertical-align: middle;'></progress>\n",
       "      \n",
       "    </div>\n",
       "    \n"
      ],
      "text/plain": [
       "<IPython.core.display.HTML object>"
      ]
     },
     "metadata": {},
     "output_type": "display_data"
    },
    {
     "data": {
      "text/html": [],
      "text/plain": [
       "<IPython.core.display.HTML object>"
      ]
     },
     "metadata": {},
     "output_type": "display_data"
    },
    {
     "name": "stdout",
     "output_type": "stream",
     "text": [
      "Fold 7 of model swin_384_ results\n"
     ]
    },
    {
     "data": {
      "text/html": [
       "\n",
       "    <div>\n",
       "        <style>\n",
       "            /* Turns off some styling */\n",
       "            progress {\n",
       "                /* gets rid of default border in Firefox and Opera. */\n",
       "                border: none;\n",
       "                /* Needs to be in here for Safari polyfill so background images work as expected. */\n",
       "                background-size: auto;\n",
       "            }\n",
       "            .progress-bar-interrupted, .progress-bar-interrupted::-webkit-progress-bar {\n",
       "                background: #F44336;\n",
       "            }\n",
       "        </style>\n",
       "      <progress value='0' class='' max='1' style='width:300px; height:20px; vertical-align: middle;'></progress>\n",
       "      \n",
       "    </div>\n",
       "    \n"
      ],
      "text/plain": [
       "<IPython.core.display.HTML object>"
      ]
     },
     "metadata": {},
     "output_type": "display_data"
    },
    {
     "data": {
      "text/html": [],
      "text/plain": [
       "<IPython.core.display.HTML object>"
      ]
     },
     "metadata": {},
     "output_type": "display_data"
    }
   ],
   "source": [
    "all_preds=[]\n",
    "for j in range(n_models):\n",
    "#     train_df,test_df=process_data(j,train_df_copy)\n",
    "    if j==1 :\n",
    "        continue\n",
    "    for i in range(model_folds[j]):\n",
    "        print(f'Fold {i} of model {models_path[j]} results')\n",
    "        model=torch.load(input_path+models_path[j]+str(i)+\".pt\")\n",
    "        learn = get_learner(i,model,j)\n",
    "        dls = ImageDataLoaders.from_df(train_df,\n",
    "                               valid_pct=0.2,\n",
    "                               seed=999,  \n",
    "                               fn_col='path', \n",
    "                               label_col='norm_score', \n",
    "                               y_block=RegressionBlock,\n",
    "                               bs=batch_models[j], \n",
    "                               num_workers=8,\n",
    "                               item_tfms=Resize(image_siz[j]),\n",
    "                               batch_tfms=setup_aug_tfms([Brightness(), Contrast(), Hue(), Saturation()])) \n",
    "        test_dl = dls.test_dl(test_df)\n",
    "        preds, _ = learn.tta(dl=test_dl, n=5, beta=0)\n",
    "        new_test_df[models_path[j]+\"_pred\"+str(i)]=preds\n",
    "        all_preds.append(preds)\n",
    "#         test_dl = dls.test_dl(train_df)\n",
    "#         preds, _ = learn.tta(dl=test_dl, n=5, beta=0)\n",
    "#         new_df[model_path[j]+\"_pred\"+str(i)]=preds\n",
    "        req_features.append(models_path[j]+\"_pred\"+str(i))\n",
    "        del learn\n",
    "        torch.cuda.empty_cache()\n",
    "        gc.collect()\n",
    "        \n",
    "        "
   ]
  },
  {
   "cell_type": "code",
   "execution_count": 22,
   "id": "a9fad1c5",
   "metadata": {
    "execution": {
     "iopub.execute_input": "2022-01-09T09:31:20.397015Z",
     "iopub.status.busy": "2022-01-09T09:31:20.396408Z",
     "iopub.status.idle": "2022-01-09T09:32:14.897312Z",
     "shell.execute_reply": "2022-01-09T09:32:14.896762Z",
     "shell.execute_reply.started": "2022-01-09T08:59:10.095076Z"
    },
    "papermill": {
     "duration": 54.552116,
     "end_time": "2022-01-09T09:32:14.897452",
     "exception": false,
     "start_time": "2022-01-09T09:31:20.345336",
     "status": "completed"
    },
    "tags": []
   },
   "outputs": [
    {
     "name": "stdout",
     "output_type": "stream",
     "text": [
      "Fold 1 of model swin_384_0 results\n"
     ]
    },
    {
     "data": {
      "text/html": [
       "\n",
       "    <div>\n",
       "        <style>\n",
       "            /* Turns off some styling */\n",
       "            progress {\n",
       "                /* gets rid of default border in Firefox and Opera. */\n",
       "                border: none;\n",
       "                /* Needs to be in here for Safari polyfill so background images work as expected. */\n",
       "                background-size: auto;\n",
       "            }\n",
       "            .progress-bar-interrupted, .progress-bar-interrupted::-webkit-progress-bar {\n",
       "                background: #F44336;\n",
       "            }\n",
       "        </style>\n",
       "      <progress value='0' class='' max='1' style='width:300px; height:20px; vertical-align: middle;'></progress>\n",
       "      \n",
       "    </div>\n",
       "    \n"
      ],
      "text/plain": [
       "<IPython.core.display.HTML object>"
      ]
     },
     "metadata": {},
     "output_type": "display_data"
    },
    {
     "data": {
      "text/html": [],
      "text/plain": [
       "<IPython.core.display.HTML object>"
      ]
     },
     "metadata": {},
     "output_type": "display_data"
    },
    {
     "name": "stdout",
     "output_type": "stream",
     "text": [
      "Fold 2 of model swin_384_0 results\n"
     ]
    },
    {
     "data": {
      "text/html": [
       "\n",
       "    <div>\n",
       "        <style>\n",
       "            /* Turns off some styling */\n",
       "            progress {\n",
       "                /* gets rid of default border in Firefox and Opera. */\n",
       "                border: none;\n",
       "                /* Needs to be in here for Safari polyfill so background images work as expected. */\n",
       "                background-size: auto;\n",
       "            }\n",
       "            .progress-bar-interrupted, .progress-bar-interrupted::-webkit-progress-bar {\n",
       "                background: #F44336;\n",
       "            }\n",
       "        </style>\n",
       "      <progress value='0' class='' max='1' style='width:300px; height:20px; vertical-align: middle;'></progress>\n",
       "      \n",
       "    </div>\n",
       "    \n"
      ],
      "text/plain": [
       "<IPython.core.display.HTML object>"
      ]
     },
     "metadata": {},
     "output_type": "display_data"
    },
    {
     "data": {
      "text/html": [],
      "text/plain": [
       "<IPython.core.display.HTML object>"
      ]
     },
     "metadata": {},
     "output_type": "display_data"
    },
    {
     "name": "stdout",
     "output_type": "stream",
     "text": [
      "Fold 3 of model swin_384_0 results\n"
     ]
    },
    {
     "data": {
      "text/html": [
       "\n",
       "    <div>\n",
       "        <style>\n",
       "            /* Turns off some styling */\n",
       "            progress {\n",
       "                /* gets rid of default border in Firefox and Opera. */\n",
       "                border: none;\n",
       "                /* Needs to be in here for Safari polyfill so background images work as expected. */\n",
       "                background-size: auto;\n",
       "            }\n",
       "            .progress-bar-interrupted, .progress-bar-interrupted::-webkit-progress-bar {\n",
       "                background: #F44336;\n",
       "            }\n",
       "        </style>\n",
       "      <progress value='0' class='' max='1' style='width:300px; height:20px; vertical-align: middle;'></progress>\n",
       "      \n",
       "    </div>\n",
       "    \n"
      ],
      "text/plain": [
       "<IPython.core.display.HTML object>"
      ]
     },
     "metadata": {},
     "output_type": "display_data"
    },
    {
     "data": {
      "text/html": [],
      "text/plain": [
       "<IPython.core.display.HTML object>"
      ]
     },
     "metadata": {},
     "output_type": "display_data"
    },
    {
     "name": "stdout",
     "output_type": "stream",
     "text": [
      "Fold 4 of model swin_384_0 results\n"
     ]
    },
    {
     "data": {
      "text/html": [
       "\n",
       "    <div>\n",
       "        <style>\n",
       "            /* Turns off some styling */\n",
       "            progress {\n",
       "                /* gets rid of default border in Firefox and Opera. */\n",
       "                border: none;\n",
       "                /* Needs to be in here for Safari polyfill so background images work as expected. */\n",
       "                background-size: auto;\n",
       "            }\n",
       "            .progress-bar-interrupted, .progress-bar-interrupted::-webkit-progress-bar {\n",
       "                background: #F44336;\n",
       "            }\n",
       "        </style>\n",
       "      <progress value='0' class='' max='1' style='width:300px; height:20px; vertical-align: middle;'></progress>\n",
       "      \n",
       "    </div>\n",
       "    \n"
      ],
      "text/plain": [
       "<IPython.core.display.HTML object>"
      ]
     },
     "metadata": {},
     "output_type": "display_data"
    },
    {
     "data": {
      "text/html": [],
      "text/plain": [
       "<IPython.core.display.HTML object>"
      ]
     },
     "metadata": {},
     "output_type": "display_data"
    }
   ],
   "source": [
    "for i in range(1,5):\n",
    "        j=1\n",
    "        print(f'Fold {i} of model {models_path[j]} results')\n",
    "        model=torch.load(input_path+models_path[j]+str(i)+\".pt\")\n",
    "        learn = get_learner(i,model,j)\n",
    "        dls = ImageDataLoaders.from_df(train_df,\n",
    "                               valid_pct=0.2,\n",
    "                               seed=999,  \n",
    "                               fn_col='path', \n",
    "                               label_col='norm_score', \n",
    "                               y_block=RegressionBlock,\n",
    "                               bs=batch_models[j], \n",
    "                               num_workers=8,\n",
    "                               item_tfms=Resize(image_siz[j]),\n",
    "                               batch_tfms=setup_aug_tfms([Brightness(), Contrast(), Hue(), Saturation()])) \n",
    "        test_dl = dls.test_dl(test_df)\n",
    "        preds, _ = learn.tta(dl=test_dl, n=5, beta=0)\n",
    "        new_test_df[models_path[j]+\"_pred\"+str(i)]=preds\n",
    "        all_preds.append(preds)\n",
    "#         test_dl = dls.test_dl(train_df)\n",
    "#         preds, _ = learn.tta(dl=test_dl, n=5, beta=0)\n",
    "#         new_df[model_path[j]+\"_pred\"+str(i)]=preds\n",
    "        req_features.append(models_path[j]+\"_pred\"+str(i))\n",
    "        del learn\n",
    "        torch.cuda.empty_cache()\n",
    "        gc.collect()"
   ]
  },
  {
   "cell_type": "code",
   "execution_count": 23,
   "id": "d2b38a71",
   "metadata": {
    "execution": {
     "iopub.execute_input": "2022-01-09T09:32:15.001288Z",
     "iopub.status.busy": "2022-01-09T09:32:15.000179Z",
     "iopub.status.idle": "2022-01-09T09:32:15.008164Z",
     "shell.execute_reply": "2022-01-09T09:32:15.007660Z",
     "shell.execute_reply.started": "2022-01-09T09:00:36.536259Z"
    },
    "papermill": {
     "duration": 0.06282,
     "end_time": "2022-01-09T09:32:15.008288",
     "exception": false,
     "start_time": "2022-01-09T09:32:14.945468",
     "status": "completed"
    },
    "tags": []
   },
   "outputs": [],
   "source": [
    "new_test_df.to_csv(\"final_test_preds.csv\")"
   ]
  },
  {
   "cell_type": "code",
   "execution_count": 24,
   "id": "2df5c119",
   "metadata": {
    "execution": {
     "iopub.execute_input": "2022-01-09T09:32:15.135219Z",
     "iopub.status.busy": "2022-01-09T09:32:15.128138Z",
     "iopub.status.idle": "2022-01-09T09:32:15.144112Z",
     "shell.execute_reply": "2022-01-09T09:32:15.144603Z",
     "shell.execute_reply.started": "2022-01-09T09:00:54.919831Z"
    },
    "papermill": {
     "duration": 0.086662,
     "end_time": "2022-01-09T09:32:15.144752",
     "exception": false,
     "start_time": "2022-01-09T09:32:15.058090",
     "status": "completed"
    },
    "tags": []
   },
   "outputs": [
    {
     "data": {
      "text/html": [
       "<div>\n",
       "<style scoped>\n",
       "    .dataframe tbody tr th:only-of-type {\n",
       "        vertical-align: middle;\n",
       "    }\n",
       "\n",
       "    .dataframe tbody tr th {\n",
       "        vertical-align: top;\n",
       "    }\n",
       "\n",
       "    .dataframe thead th {\n",
       "        text-align: right;\n",
       "    }\n",
       "</style>\n",
       "<table border=\"1\" class=\"dataframe\">\n",
       "  <thead>\n",
       "    <tr style=\"text-align: right;\">\n",
       "      <th></th>\n",
       "      <th>swin__pred0</th>\n",
       "      <th>swin__pred1</th>\n",
       "      <th>swin__pred2</th>\n",
       "      <th>swin__pred3</th>\n",
       "      <th>swin__pred4</th>\n",
       "      <th>swin__pred5</th>\n",
       "      <th>swin__pred6</th>\n",
       "      <th>swin__pred7</th>\n",
       "      <th>swin__pred8</th>\n",
       "      <th>swin__pred9</th>\n",
       "      <th>...</th>\n",
       "      <th>swin_384__pred2</th>\n",
       "      <th>swin_384__pred3</th>\n",
       "      <th>swin_384__pred4</th>\n",
       "      <th>swin_384__pred5</th>\n",
       "      <th>swin_384__pred6</th>\n",
       "      <th>swin_384__pred7</th>\n",
       "      <th>swin_384_0_pred1</th>\n",
       "      <th>swin_384_0_pred2</th>\n",
       "      <th>swin_384_0_pred3</th>\n",
       "      <th>swin_384_0_pred4</th>\n",
       "    </tr>\n",
       "    <tr>\n",
       "      <th>Id</th>\n",
       "      <th></th>\n",
       "      <th></th>\n",
       "      <th></th>\n",
       "      <th></th>\n",
       "      <th></th>\n",
       "      <th></th>\n",
       "      <th></th>\n",
       "      <th></th>\n",
       "      <th></th>\n",
       "      <th></th>\n",
       "      <th></th>\n",
       "      <th></th>\n",
       "      <th></th>\n",
       "      <th></th>\n",
       "      <th></th>\n",
       "      <th></th>\n",
       "      <th></th>\n",
       "      <th></th>\n",
       "      <th></th>\n",
       "      <th></th>\n",
       "      <th></th>\n",
       "    </tr>\n",
       "  </thead>\n",
       "  <tbody>\n",
       "    <tr>\n",
       "      <th>4128bae22183829d2b5fea10effdb0c3</th>\n",
       "      <td>0.447957</td>\n",
       "      <td>0.415262</td>\n",
       "      <td>0.416437</td>\n",
       "      <td>0.359511</td>\n",
       "      <td>0.394780</td>\n",
       "      <td>0.370828</td>\n",
       "      <td>0.419108</td>\n",
       "      <td>0.407015</td>\n",
       "      <td>0.426900</td>\n",
       "      <td>0.390452</td>\n",
       "      <td>...</td>\n",
       "      <td>0.414687</td>\n",
       "      <td>0.428617</td>\n",
       "      <td>0.424397</td>\n",
       "      <td>0.399564</td>\n",
       "      <td>0.407617</td>\n",
       "      <td>0.375801</td>\n",
       "      <td>0.425295</td>\n",
       "      <td>0.409174</td>\n",
       "      <td>0.387748</td>\n",
       "      <td>0.420719</td>\n",
       "    </tr>\n",
       "    <tr>\n",
       "      <th>43a2262d7738e3d420d453815151079e</th>\n",
       "      <td>0.449145</td>\n",
       "      <td>0.430499</td>\n",
       "      <td>0.422903</td>\n",
       "      <td>0.380744</td>\n",
       "      <td>0.403764</td>\n",
       "      <td>0.381705</td>\n",
       "      <td>0.422541</td>\n",
       "      <td>0.414864</td>\n",
       "      <td>0.429981</td>\n",
       "      <td>0.408601</td>\n",
       "      <td>...</td>\n",
       "      <td>0.418174</td>\n",
       "      <td>0.430973</td>\n",
       "      <td>0.430567</td>\n",
       "      <td>0.410044</td>\n",
       "      <td>0.424380</td>\n",
       "      <td>0.384201</td>\n",
       "      <td>0.433288</td>\n",
       "      <td>0.420840</td>\n",
       "      <td>0.400471</td>\n",
       "      <td>0.423923</td>\n",
       "    </tr>\n",
       "    <tr>\n",
       "      <th>4e429cead1848a298432a0acad014c9d</th>\n",
       "      <td>0.450935</td>\n",
       "      <td>0.408729</td>\n",
       "      <td>0.418252</td>\n",
       "      <td>0.353602</td>\n",
       "      <td>0.402116</td>\n",
       "      <td>0.375619</td>\n",
       "      <td>0.418000</td>\n",
       "      <td>0.406502</td>\n",
       "      <td>0.426466</td>\n",
       "      <td>0.388175</td>\n",
       "      <td>...</td>\n",
       "      <td>0.417569</td>\n",
       "      <td>0.430423</td>\n",
       "      <td>0.428235</td>\n",
       "      <td>0.397104</td>\n",
       "      <td>0.411398</td>\n",
       "      <td>0.375622</td>\n",
       "      <td>0.429830</td>\n",
       "      <td>0.415559</td>\n",
       "      <td>0.396517</td>\n",
       "      <td>0.424115</td>\n",
       "    </tr>\n",
       "    <tr>\n",
       "      <th>80bc3ccafcc51b66303c2c263aa38486</th>\n",
       "      <td>0.451254</td>\n",
       "      <td>0.420857</td>\n",
       "      <td>0.425835</td>\n",
       "      <td>0.372148</td>\n",
       "      <td>0.416320</td>\n",
       "      <td>0.384440</td>\n",
       "      <td>0.423924</td>\n",
       "      <td>0.413869</td>\n",
       "      <td>0.431837</td>\n",
       "      <td>0.406067</td>\n",
       "      <td>...</td>\n",
       "      <td>0.417260</td>\n",
       "      <td>0.431058</td>\n",
       "      <td>0.431214</td>\n",
       "      <td>0.399192</td>\n",
       "      <td>0.419319</td>\n",
       "      <td>0.378557</td>\n",
       "      <td>0.432714</td>\n",
       "      <td>0.419582</td>\n",
       "      <td>0.399660</td>\n",
       "      <td>0.425367</td>\n",
       "    </tr>\n",
       "    <tr>\n",
       "      <th>8f49844c382931444e68dffbe20228f4</th>\n",
       "      <td>0.452084</td>\n",
       "      <td>0.405943</td>\n",
       "      <td>0.417642</td>\n",
       "      <td>0.362720</td>\n",
       "      <td>0.406937</td>\n",
       "      <td>0.366779</td>\n",
       "      <td>0.421578</td>\n",
       "      <td>0.405534</td>\n",
       "      <td>0.425694</td>\n",
       "      <td>0.389036</td>\n",
       "      <td>...</td>\n",
       "      <td>0.417521</td>\n",
       "      <td>0.428927</td>\n",
       "      <td>0.426107</td>\n",
       "      <td>0.393485</td>\n",
       "      <td>0.414432</td>\n",
       "      <td>0.376338</td>\n",
       "      <td>0.426160</td>\n",
       "      <td>0.414676</td>\n",
       "      <td>0.393130</td>\n",
       "      <td>0.421969</td>\n",
       "    </tr>\n",
       "    <tr>\n",
       "      <th>b03f7041962238a7c9d6537e22f9b017</th>\n",
       "      <td>0.454775</td>\n",
       "      <td>0.412906</td>\n",
       "      <td>0.424055</td>\n",
       "      <td>0.379382</td>\n",
       "      <td>0.412049</td>\n",
       "      <td>0.368917</td>\n",
       "      <td>0.423363</td>\n",
       "      <td>0.409387</td>\n",
       "      <td>0.427720</td>\n",
       "      <td>0.396657</td>\n",
       "      <td>...</td>\n",
       "      <td>0.415693</td>\n",
       "      <td>0.429358</td>\n",
       "      <td>0.421923</td>\n",
       "      <td>0.394215</td>\n",
       "      <td>0.416124</td>\n",
       "      <td>0.373650</td>\n",
       "      <td>0.427973</td>\n",
       "      <td>0.415173</td>\n",
       "      <td>0.392776</td>\n",
       "      <td>0.421278</td>\n",
       "    </tr>\n",
       "    <tr>\n",
       "      <th>c978013571258ed6d4637f6e8cc9d6a3</th>\n",
       "      <td>0.451805</td>\n",
       "      <td>0.416615</td>\n",
       "      <td>0.423227</td>\n",
       "      <td>0.365817</td>\n",
       "      <td>0.413158</td>\n",
       "      <td>0.376523</td>\n",
       "      <td>0.422686</td>\n",
       "      <td>0.408776</td>\n",
       "      <td>0.434186</td>\n",
       "      <td>0.394527</td>\n",
       "      <td>...</td>\n",
       "      <td>0.416370</td>\n",
       "      <td>0.430459</td>\n",
       "      <td>0.428237</td>\n",
       "      <td>0.401472</td>\n",
       "      <td>0.422251</td>\n",
       "      <td>0.381137</td>\n",
       "      <td>0.428501</td>\n",
       "      <td>0.416852</td>\n",
       "      <td>0.395536</td>\n",
       "      <td>0.423244</td>\n",
       "    </tr>\n",
       "    <tr>\n",
       "      <th>e0de453c1bffc20c22b072b34b54e50f</th>\n",
       "      <td>0.450143</td>\n",
       "      <td>0.419365</td>\n",
       "      <td>0.419271</td>\n",
       "      <td>0.368345</td>\n",
       "      <td>0.410577</td>\n",
       "      <td>0.381477</td>\n",
       "      <td>0.420150</td>\n",
       "      <td>0.412912</td>\n",
       "      <td>0.430941</td>\n",
       "      <td>0.398307</td>\n",
       "      <td>...</td>\n",
       "      <td>0.416845</td>\n",
       "      <td>0.428281</td>\n",
       "      <td>0.428007</td>\n",
       "      <td>0.401560</td>\n",
       "      <td>0.416582</td>\n",
       "      <td>0.380720</td>\n",
       "      <td>0.426290</td>\n",
       "      <td>0.414335</td>\n",
       "      <td>0.392689</td>\n",
       "      <td>0.423530</td>\n",
       "    </tr>\n",
       "  </tbody>\n",
       "</table>\n",
       "<p>8 rows × 22 columns</p>\n",
       "</div>"
      ],
      "text/plain": [
       "                                  swin__pred0  swin__pred1  swin__pred2  \\\n",
       "Id                                                                        \n",
       "4128bae22183829d2b5fea10effdb0c3     0.447957     0.415262     0.416437   \n",
       "43a2262d7738e3d420d453815151079e     0.449145     0.430499     0.422903   \n",
       "4e429cead1848a298432a0acad014c9d     0.450935     0.408729     0.418252   \n",
       "80bc3ccafcc51b66303c2c263aa38486     0.451254     0.420857     0.425835   \n",
       "8f49844c382931444e68dffbe20228f4     0.452084     0.405943     0.417642   \n",
       "b03f7041962238a7c9d6537e22f9b017     0.454775     0.412906     0.424055   \n",
       "c978013571258ed6d4637f6e8cc9d6a3     0.451805     0.416615     0.423227   \n",
       "e0de453c1bffc20c22b072b34b54e50f     0.450143     0.419365     0.419271   \n",
       "\n",
       "                                  swin__pred3  swin__pred4  swin__pred5  \\\n",
       "Id                                                                        \n",
       "4128bae22183829d2b5fea10effdb0c3     0.359511     0.394780     0.370828   \n",
       "43a2262d7738e3d420d453815151079e     0.380744     0.403764     0.381705   \n",
       "4e429cead1848a298432a0acad014c9d     0.353602     0.402116     0.375619   \n",
       "80bc3ccafcc51b66303c2c263aa38486     0.372148     0.416320     0.384440   \n",
       "8f49844c382931444e68dffbe20228f4     0.362720     0.406937     0.366779   \n",
       "b03f7041962238a7c9d6537e22f9b017     0.379382     0.412049     0.368917   \n",
       "c978013571258ed6d4637f6e8cc9d6a3     0.365817     0.413158     0.376523   \n",
       "e0de453c1bffc20c22b072b34b54e50f     0.368345     0.410577     0.381477   \n",
       "\n",
       "                                  swin__pred6  swin__pred7  swin__pred8  \\\n",
       "Id                                                                        \n",
       "4128bae22183829d2b5fea10effdb0c3     0.419108     0.407015     0.426900   \n",
       "43a2262d7738e3d420d453815151079e     0.422541     0.414864     0.429981   \n",
       "4e429cead1848a298432a0acad014c9d     0.418000     0.406502     0.426466   \n",
       "80bc3ccafcc51b66303c2c263aa38486     0.423924     0.413869     0.431837   \n",
       "8f49844c382931444e68dffbe20228f4     0.421578     0.405534     0.425694   \n",
       "b03f7041962238a7c9d6537e22f9b017     0.423363     0.409387     0.427720   \n",
       "c978013571258ed6d4637f6e8cc9d6a3     0.422686     0.408776     0.434186   \n",
       "e0de453c1bffc20c22b072b34b54e50f     0.420150     0.412912     0.430941   \n",
       "\n",
       "                                  swin__pred9  ...  swin_384__pred2  \\\n",
       "Id                                             ...                    \n",
       "4128bae22183829d2b5fea10effdb0c3     0.390452  ...         0.414687   \n",
       "43a2262d7738e3d420d453815151079e     0.408601  ...         0.418174   \n",
       "4e429cead1848a298432a0acad014c9d     0.388175  ...         0.417569   \n",
       "80bc3ccafcc51b66303c2c263aa38486     0.406067  ...         0.417260   \n",
       "8f49844c382931444e68dffbe20228f4     0.389036  ...         0.417521   \n",
       "b03f7041962238a7c9d6537e22f9b017     0.396657  ...         0.415693   \n",
       "c978013571258ed6d4637f6e8cc9d6a3     0.394527  ...         0.416370   \n",
       "e0de453c1bffc20c22b072b34b54e50f     0.398307  ...         0.416845   \n",
       "\n",
       "                                  swin_384__pred3  swin_384__pred4  \\\n",
       "Id                                                                   \n",
       "4128bae22183829d2b5fea10effdb0c3         0.428617         0.424397   \n",
       "43a2262d7738e3d420d453815151079e         0.430973         0.430567   \n",
       "4e429cead1848a298432a0acad014c9d         0.430423         0.428235   \n",
       "80bc3ccafcc51b66303c2c263aa38486         0.431058         0.431214   \n",
       "8f49844c382931444e68dffbe20228f4         0.428927         0.426107   \n",
       "b03f7041962238a7c9d6537e22f9b017         0.429358         0.421923   \n",
       "c978013571258ed6d4637f6e8cc9d6a3         0.430459         0.428237   \n",
       "e0de453c1bffc20c22b072b34b54e50f         0.428281         0.428007   \n",
       "\n",
       "                                  swin_384__pred5  swin_384__pred6  \\\n",
       "Id                                                                   \n",
       "4128bae22183829d2b5fea10effdb0c3         0.399564         0.407617   \n",
       "43a2262d7738e3d420d453815151079e         0.410044         0.424380   \n",
       "4e429cead1848a298432a0acad014c9d         0.397104         0.411398   \n",
       "80bc3ccafcc51b66303c2c263aa38486         0.399192         0.419319   \n",
       "8f49844c382931444e68dffbe20228f4         0.393485         0.414432   \n",
       "b03f7041962238a7c9d6537e22f9b017         0.394215         0.416124   \n",
       "c978013571258ed6d4637f6e8cc9d6a3         0.401472         0.422251   \n",
       "e0de453c1bffc20c22b072b34b54e50f         0.401560         0.416582   \n",
       "\n",
       "                                  swin_384__pred7  swin_384_0_pred1  \\\n",
       "Id                                                                    \n",
       "4128bae22183829d2b5fea10effdb0c3         0.375801          0.425295   \n",
       "43a2262d7738e3d420d453815151079e         0.384201          0.433288   \n",
       "4e429cead1848a298432a0acad014c9d         0.375622          0.429830   \n",
       "80bc3ccafcc51b66303c2c263aa38486         0.378557          0.432714   \n",
       "8f49844c382931444e68dffbe20228f4         0.376338          0.426160   \n",
       "b03f7041962238a7c9d6537e22f9b017         0.373650          0.427973   \n",
       "c978013571258ed6d4637f6e8cc9d6a3         0.381137          0.428501   \n",
       "e0de453c1bffc20c22b072b34b54e50f         0.380720          0.426290   \n",
       "\n",
       "                                  swin_384_0_pred2  swin_384_0_pred3  \\\n",
       "Id                                                                     \n",
       "4128bae22183829d2b5fea10effdb0c3          0.409174          0.387748   \n",
       "43a2262d7738e3d420d453815151079e          0.420840          0.400471   \n",
       "4e429cead1848a298432a0acad014c9d          0.415559          0.396517   \n",
       "80bc3ccafcc51b66303c2c263aa38486          0.419582          0.399660   \n",
       "8f49844c382931444e68dffbe20228f4          0.414676          0.393130   \n",
       "b03f7041962238a7c9d6537e22f9b017          0.415173          0.392776   \n",
       "c978013571258ed6d4637f6e8cc9d6a3          0.416852          0.395536   \n",
       "e0de453c1bffc20c22b072b34b54e50f          0.414335          0.392689   \n",
       "\n",
       "                                  swin_384_0_pred4  \n",
       "Id                                                  \n",
       "4128bae22183829d2b5fea10effdb0c3          0.420719  \n",
       "43a2262d7738e3d420d453815151079e          0.423923  \n",
       "4e429cead1848a298432a0acad014c9d          0.424115  \n",
       "80bc3ccafcc51b66303c2c263aa38486          0.425367  \n",
       "8f49844c382931444e68dffbe20228f4          0.421969  \n",
       "b03f7041962238a7c9d6537e22f9b017          0.421278  \n",
       "c978013571258ed6d4637f6e8cc9d6a3          0.423244  \n",
       "e0de453c1bffc20c22b072b34b54e50f          0.423530  \n",
       "\n",
       "[8 rows x 22 columns]"
      ]
     },
     "execution_count": 24,
     "metadata": {},
     "output_type": "execute_result"
    }
   ],
   "source": [
    "new_test_df"
   ]
  },
  {
   "cell_type": "code",
   "execution_count": 25,
   "id": "3a646095",
   "metadata": {
    "execution": {
     "iopub.execute_input": "2022-01-09T09:32:15.250489Z",
     "iopub.status.busy": "2022-01-09T09:32:15.249595Z",
     "iopub.status.idle": "2022-01-09T09:32:15.265598Z",
     "shell.execute_reply": "2022-01-09T09:32:15.266558Z",
     "shell.execute_reply.started": "2022-01-09T09:01:15.729744Z"
    },
    "papermill": {
     "duration": 0.068643,
     "end_time": "2022-01-09T09:32:15.266712",
     "exception": false,
     "start_time": "2022-01-09T09:32:15.198069",
     "status": "completed"
    },
    "tags": []
   },
   "outputs": [],
   "source": [
    "sample_df = pd.read_csv(dataset_path/'sample_submission.csv')\n",
    "preds = np.mean(np.stack(all_preds), axis=0)\n",
    "sample_df['Pawpularity'] = preds*100\n",
    "sample_df.to_csv('submission.csv',index=False)"
   ]
  },
  {
   "cell_type": "code",
   "execution_count": 26,
   "id": "6392763f",
   "metadata": {
    "execution": {
     "iopub.execute_input": "2022-01-09T09:32:15.374643Z",
     "iopub.status.busy": "2022-01-09T09:32:15.372867Z",
     "iopub.status.idle": "2022-01-09T09:32:15.377184Z",
     "shell.execute_reply": "2022-01-09T09:32:15.376645Z",
     "shell.execute_reply.started": "2022-01-09T09:01:40.344840Z"
    },
    "papermill": {
     "duration": 0.060384,
     "end_time": "2022-01-09T09:32:15.377316",
     "exception": false,
     "start_time": "2022-01-09T09:32:15.316932",
     "status": "completed"
    },
    "tags": []
   },
   "outputs": [
    {
     "data": {
      "text/plain": [
       "array([[0.40517843],\n",
       "       [0.4139191 ],\n",
       "       [0.40678254],\n",
       "       [0.41301033],\n",
       "       [0.40622395],\n",
       "       [0.40834105],\n",
       "       [0.410459  ],\n",
       "       [0.40979853]], dtype=float32)"
      ]
     },
     "execution_count": 26,
     "metadata": {},
     "output_type": "execute_result"
    }
   ],
   "source": [
    "preds"
   ]
  },
  {
   "cell_type": "code",
   "execution_count": null,
   "id": "b2746f95",
   "metadata": {
    "papermill": {
     "duration": 0.048055,
     "end_time": "2022-01-09T09:32:15.478640",
     "exception": false,
     "start_time": "2022-01-09T09:32:15.430585",
     "status": "completed"
    },
    "tags": []
   },
   "outputs": [],
   "source": []
  }
 ],
 "metadata": {
  "kernelspec": {
   "display_name": "Python 3",
   "language": "python",
   "name": "python3"
  },
  "language_info": {
   "codemirror_mode": {
    "name": "ipython",
    "version": 3
   },
   "file_extension": ".py",
   "mimetype": "text/x-python",
   "name": "python",
   "nbconvert_exporter": "python",
   "pygments_lexer": "ipython3",
   "version": "3.7.10"
  },
  "papermill": {
   "default_parameters": {},
   "duration": 319.87728,
   "end_time": "2022-01-09T09:32:18.860225",
   "environment_variables": {},
   "exception": null,
   "input_path": "__notebook__.ipynb",
   "output_path": "__notebook__.ipynb",
   "parameters": {},
   "start_time": "2022-01-09T09:26:58.982945",
   "version": "2.3.3"
  }
 },
 "nbformat": 4,
 "nbformat_minor": 5
}
